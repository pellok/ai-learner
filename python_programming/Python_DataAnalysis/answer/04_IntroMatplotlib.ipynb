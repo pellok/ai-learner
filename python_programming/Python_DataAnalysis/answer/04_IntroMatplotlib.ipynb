{
 "cells": [
  {
   "cell_type": "markdown",
   "metadata": {},
   "source": [
    "## [Matplotlib](https://matplotlib.org/)\n",
    "Matplotlib is a Python 2D plotting library which produces publication quality figures in a variety of hardcopy formats and interactive environments across platforms.\n",
    "​"
   ]
  },
  {
   "cell_type": "code",
   "execution_count": null,
   "metadata": {
    "collapsed": true
   },
   "outputs": [],
   "source": [
    "import matplotlib.pyplot as plt\n",
    "%matplotlib inline\n",
    "import pandas as pd"
   ]
  },
  {
   "cell_type": "code",
   "execution_count": null,
   "metadata": {},
   "outputs": [],
   "source": [
    "import numpy as np\n",
    "x = np.arange(0, 3 * np.pi, 0.1)\n",
    "y = np.sin(x)\n",
    "\n",
    "plt.plot(x, y)\n",
    "plt.show()\n"
   ]
  },
  {
   "cell_type": "markdown",
   "metadata": {},
   "source": [
    "## Basic"
   ]
  },
  {
   "cell_type": "code",
   "execution_count": null,
   "metadata": {},
   "outputs": [],
   "source": [
    "\n",
    "x = np.arange(0, 3 * np.pi, 0.1)\n",
    "y_sin = np.sin(x)\n",
    "y_cos = np.cos(x)\n",
    "\n",
    "plt.plot(x, y_sin)\n",
    "plt.plot(x, y_cos)\n",
    "plt.xlabel(\"x axis label\")\n",
    "plt.ylabel(\"y axis label\")\n",
    "plt.title(\"Since and Cosine\")\n",
    "plt.legend([\"Sine\", \"Cosine\"])\n",
    "plt.show()\n"
   ]
  },
  {
   "cell_type": "markdown",
   "metadata": {},
   "source": [
    "## Object Oriented Method（會先figure()引入，再帶入其他object method或attribute。）"
   ]
  },
  {
   "cell_type": "code",
   "execution_count": null,
   "metadata": {},
   "outputs": [],
   "source": [
    "fig = plt.figure()\n",
    "#新增Figure的軸（左,下,寬度,高度)，範圍佔Figure的比例（數值介於0-1）\n",
    "axes = fig.add_axes([0.1, 0.1, 0.8, 0.8])\n",
    "axes.plot(x,y_sin)\n",
    "axes.plot(x,y_cos)\n",
    "axes.set_xlabel(\"x axis label\")\n",
    "axes.set_ylabel(\"y axis label\")\n",
    "axes.set_title(\"Sine and Cosine\")\n",
    "plt.legend([\"Sine\", \"Cosine\"])"
   ]
  },
  {
   "cell_type": "markdown",
   "metadata": {},
   "source": [
    "## Use axes to make plot in plot"
   ]
  },
  {
   "cell_type": "code",
   "execution_count": null,
   "metadata": {},
   "outputs": [],
   "source": [
    "#製作空白的figure來製作圖中圖\n",
    "fig = plt.figure()\n",
    "\n",
    "#在figure上建立第一個圖主要的軸，再設定第二個圖的軸（剛剛只畫第一個圖看不太出來差異，製作第二個軸就看得出來）\n",
    "axes1 = fig.add_axes([0.1, 0.1, 0.8, 0.8])\n",
    "axes2 = fig.add_axes([0.2, 0.5, 0.4, 0.3])\n",
    "\n",
    "#第一個大圖\n",
    "axes1.plot(x, y, 'r')\n",
    "axes1.set_xlabel('x axis label')\n",
    "axes1.set_ylabel('y axis label')\n",
    "axes1.set_title('cosine')\n",
    "\n",
    "#第二個較小的圖\n",
    "axes2.plot(x, y, 'b')\n",
    "axes2.set_xlabel('sal')\n",
    "axes2.set_ylabel('num')\n",
    "axes2.set_title('sine');"
   ]
  },
  {
   "cell_type": "code",
   "execution_count": null,
   "metadata": {},
   "outputs": [],
   "source": [
    "df = pd.read_excel(\"https://github.com/chris1610/pbpython/blob/master/data/sample-salesv3.xlsx?raw=true\")\n",
    "df.head()"
   ]
  },
  {
   "cell_type": "code",
   "execution_count": null,
   "metadata": {},
   "outputs": [],
   "source": [
    "df.shape\n",
    "df.groupby(\"name\").size()"
   ]
  },
  {
   "cell_type": "code",
   "execution_count": null,
   "metadata": {},
   "outputs": [],
   "source": [
    "# 將前十名依據採購次數和交易額做排序\n",
    "top_10 = df.groupby('name')['ext price', 'quantity'].agg({'ext price': 'sum', 'quantity': 'count'}).sort_values(by='ext price', ascending=False)[:10].reset_index()\n",
    "print(top_10)\n",
    "top_10.rename(columns={'name': 'Name', 'ext price': 'Sales', 'quantity': 'Purchases'}, inplace=True) #replace \n",
    "top_10"
   ]
  },
  {
   "cell_type": "code",
   "execution_count": null,
   "metadata": {},
   "outputs": [],
   "source": [
    "# 使用 ggplot 風格\n",
    "plt.style.use('ggplot')\n",
    "\n",
    "# 繪製長條圖\n",
    "top_10.plot(kind='barh', y=\"Sales\", x=\"Name\")\n",
    "plt.show()"
   ]
  },
  {
   "cell_type": "code",
   "execution_count": null,
   "metadata": {
    "collapsed": true
   },
   "outputs": [],
   "source": [
    "## currect function 會將超過一千的數字轉換成文字 K, M\n",
    "def currency(x, pos):\n",
    "    'The two args are the value and tick position'\n",
    "    if x >= 1000000:\n",
    "        return '${:1.1f}M'.format(x*1e-6)\n",
    "    return '${:1.0f}K'.format(x*1e-3)"
   ]
  },
  {
   "cell_type": "code",
   "execution_count": null,
   "metadata": {},
   "outputs": [],
   "source": [
    "from matplotlib.ticker import FuncFormatter\n",
    "#建立 fig, ax\n",
    "fig, ax = plt.subplots()\n",
    "\n",
    "# 將 Barplot (x=名稱, y=銷售量) 繪製在 ax上\n",
    "top_10.plot(kind='barh', y=\"Sales\", x=\"Name\", ax=ax)\n",
    "\n",
    "# 設置 x 範圍\n",
    "ax.set_xlim([-10000, 140000])\n",
    "\n",
    "# 給訂 title, label\n",
    "ax.set(title='2014 Revenue', xlabel='Total Revenue', ylabel='Customer')\n",
    "\n",
    "# 建立要使用的格式函數\n",
    "formatter = FuncFormatter(currency)\n",
    "ax.xaxis.set_major_formatter(formatter)\n",
    "\n",
    "# 將 legend 遮蔽掉\n",
    "ax.legend().set_visible(False)"
   ]
  },
  {
   "cell_type": "code",
   "execution_count": null,
   "metadata": {},
   "outputs": [],
   "source": [
    "fig, (ax0, ax1) = plt.subplots(nrows=1, ncols=2, sharey=True, figsize=(7, 4))\n",
    "top_10.plot(kind='barh', y=\"Sales\", x=\"Name\", ax=ax0)\n",
    "ax0.set_xlim([-10000, 140000])\n",
    "ax0.set(title='Revenue', xlabel='Total Revenue', ylabel='Customers')\n",
    "\n",
    "# Plot the average as a vertical line\n",
    "avg = top_10['Sales'].mean()\n",
    "ax0.axvline(x=avg, color='b', label='Average', linestyle='--', linewidth=1)\n",
    "\n",
    "# Repeat for the unit plot\n",
    "top_10.plot(kind='barh', y=\"Purchases\", x=\"Name\", ax=ax1)\n",
    "avg = top_10['Purchases'].mean()\n",
    "ax1.set(title='Units', xlabel='Total Units', ylabel='')\n",
    "ax1.axvline(x=avg, color='b', label='Average', linestyle='--', linewidth=1)\n",
    "\n",
    "# Title the figure\n",
    "fig.suptitle('2014 Sales Analysis', fontsize=14, fontweight='bold');\n",
    "\n",
    "# Hide the legends\n",
    "ax1.legend().set_visible(False)\n",
    "ax0.legend().set_visible(False)"
   ]
  },
  {
   "cell_type": "markdown",
   "metadata": {},
   "source": [
    "### Scatter plot"
   ]
  },
  {
   "cell_type": "code",
   "execution_count": null,
   "metadata": {},
   "outputs": [],
   "source": [
    "import numpy as np \n",
    "import matplotlib.pyplot as plt\n",
    "\n",
    "X = np.random.normal(0, 1, 100)\n",
    "Y = np.random.normal(0, 1, 100)\n",
    "plt.scatter(X, Y)\n",
    "plt.title(\"Scatter plot\")\n",
    "plt.show()"
   ]
  },
  {
   "cell_type": "code",
   "execution_count": null,
   "metadata": {},
   "outputs": [],
   "source": [
    "import numpy as np \n",
    "import matplotlib.pyplot as plt\n",
    "\n",
    "X = np.random.normal(0, 1, 1000)\n",
    "Y = np.random.normal(0, 1, 1000)\n",
    "plt.scatter(X, Y, alpha=0.5)\n",
    "plt.title(\"Scatter plot\")\n",
    "plt.show()"
   ]
  },
  {
   "cell_type": "markdown",
   "metadata": {},
   "source": [
    "### 想挑戰更多 matplotlib 的圖形可參考 [python-matplotlib-plotting-examples-and-exercises](http://gree2.github.io/python/2015/04/10/python-matplotlib-plotting-examples-and-exercises)"
   ]
  }
 ],
 "metadata": {
  "kernelspec": {
   "display_name": "Python 3",
   "language": "python",
   "name": "python3"
  },
  "language_info": {
   "codemirror_mode": {
    "name": "ipython",
    "version": 3
   },
   "file_extension": ".py",
   "mimetype": "text/x-python",
   "name": "python",
   "nbconvert_exporter": "python",
   "pygments_lexer": "ipython3",
   "version": "3.6.6"
  }
 },
 "nbformat": 4,
 "nbformat_minor": 2
}
