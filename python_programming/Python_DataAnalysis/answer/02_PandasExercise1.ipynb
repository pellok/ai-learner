{
 "cells": [
  {
   "cell_type": "code",
   "execution_count": null,
   "metadata": {
    "collapsed": true
   },
   "outputs": [],
   "source": [
    "import matplotlib.pyplot as plt\n",
    "import numpy as np\n",
    "from sklearn import datasets\n",
    "import pandas as pd"
   ]
  },
  {
   "cell_type": "code",
   "execution_count": null,
   "metadata": {
    "collapsed": true
   },
   "outputs": [],
   "source": [
    "iris = datasets.load_iris() #use dataset from sklearn"
   ]
  },
  {
   "cell_type": "code",
   "execution_count": null,
   "metadata": {},
   "outputs": [],
   "source": [
    "type(iris.data)"
   ]
  },
  {
   "cell_type": "code",
   "execution_count": null,
   "metadata": {},
   "outputs": [],
   "source": [
    "iris.feature_names"
   ]
  },
  {
   "cell_type": "raw",
   "metadata": {},
   "source": [
    "'''\n",
    "count: number of entries \n",
    "mean: average of entries \n",
    "std: standard deviation \n",
    "min: minimum entry \n",
    "25%: first quartile\n",
    "50%: median or second quartile \n",
    "75%: third quartile\n",
    "max: maximum entry\n",
    "'''"
   ]
  },
  {
   "cell_type": "code",
   "execution_count": null,
   "metadata": {},
   "outputs": [],
   "source": [
    "# Make a DF\n",
    "iris_DF = pd.DataFrame(iris.data, columns= iris.feature_names)\n",
    "iris_DF.head()"
   ]
  },
  {
   "cell_type": "code",
   "execution_count": null,
   "metadata": {},
   "outputs": [],
   "source": [
    "iris_DF[\"species\"] = \"temp\"\n",
    "iris_DF.loc[:49,'species'] = \"setosa\"\n",
    "iris_DF.loc[50:99,'species'] = \"versicolor\"\n",
    "iris_DF.loc[100:149,'species'] = \"virginica\"\n",
    "\n",
    "iris_DF"
   ]
  },
  {
   "cell_type": "code",
   "execution_count": null,
   "metadata": {},
   "outputs": [],
   "source": [
    "iris_DF.groupby(\"species\").size()"
   ]
  },
  {
   "cell_type": "code",
   "execution_count": null,
   "metadata": {},
   "outputs": [],
   "source": [
    "iris_DF['species'].describe()\n",
    "\n",
    "#count: non-null entries\n",
    "#unique: distinct values\n",
    "#top: most freqent category\n",
    "#freq: occcurences of top"
   ]
  },
  {
   "cell_type": "code",
   "execution_count": null,
   "metadata": {},
   "outputs": [],
   "source": [
    "# Print summary statistics of the fare column with .describe()\n",
    "print(iris_DF.iloc[:,1].describe())\n",
    "\n",
    "# Generate a box plot of the fare column\n",
    "iris_DF.iloc[:,1].plot(kind = \"box\")\n",
    "\n",
    "# Show the plot\n",
    "plt.show()\n"
   ]
  },
  {
   "cell_type": "code",
   "execution_count": null,
   "metadata": {},
   "outputs": [],
   "source": [
    "## 做quantile的EDA\n",
    "\n",
    "# Print the 5th and 95th percentiles\n",
    "kind = iris_DF.columns              \n",
    "q = [0.05,0.25,0.75, 0.95]\n",
    "print(iris_DF[kind].count())\n",
    "print(iris_DF[kind].quantile(q))\n",
    "\n",
    "\n",
    "# Generate a box plot\n",
    "\n",
    "iris_DF[kind].plot(kind='box') #draw all the column\n",
    "plt.show()\n"
   ]
  },
  {
   "cell_type": "code",
   "execution_count": null,
   "metadata": {},
   "outputs": [],
   "source": [
    "iris_DF.plot(x = \"petal length (cm)\", y = \"petal width (cm)\", kind = \"scatter\")\n",
    "iris_DF.plot(x = \"petal length (cm)\", y = \"sepal length (cm)\", kind = \"scatter\", logx= True)\n",
    "plt.show()"
   ]
  },
  {
   "cell_type": "markdown",
   "metadata": {},
   "source": [
    "### Q1：Try to draw histogram as the graph below."
   ]
  },
  {
   "cell_type": "code",
   "execution_count": null,
   "metadata": {},
   "outputs": [],
   "source": [
    "iris_DF.plot(y='petal length (cm)', kind='hist', bins=30, range=(0,8), normed=True, edgecolor = \"black\")\n",
    "plt.xlabel('petal length (cm)')\n",
    "plt.show()"
   ]
  },
  {
   "cell_type": "markdown",
   "metadata": {},
   "source": [
    "### Q2: Try to draw Cumulative distribution as the graph below."
   ]
  },
  {
   "cell_type": "code",
   "execution_count": null,
   "metadata": {},
   "outputs": [],
   "source": [
    "iris_DF.plot(y='petal length (cm)', kind='hist', bins=30, range=(0,8), cumulative=True, edgecolor = \"black\")\n",
    "plt.xlabel('sepal length (cm)')\n",
    "plt.title('Cumulative distribution function (CDF)')\n",
    "plt.show()"
   ]
  },
  {
   "cell_type": "markdown",
   "metadata": {},
   "source": [
    "## Visual EDA: all data"
   ]
  },
  {
   "cell_type": "code",
   "execution_count": null,
   "metadata": {
    "collapsed": true
   },
   "outputs": [],
   "source": [
    "#Filtering by species\n",
    "\n",
    "indices = iris_DF['species'] == 'setosa'\n",
    "setosa = iris_DF.loc[indices,:] # extract new DataFrame\n",
    "indices = iris_DF['species'] == 'versicolor'\n",
    "versicolor = iris_DF.loc[indices,:] # extract new DataFrame\n",
    "indices = iris_DF['species'] == 'virginica'\n",
    "virginica = iris_DF.loc[indices,:] # extract new DataFrame"
   ]
  },
  {
   "cell_type": "code",
   "execution_count": null,
   "metadata": {},
   "outputs": [],
   "source": [
    "## all flowers \n",
    "iris_DF.plot(kind= 'hist', bins=50, range=(0,8), alpha=0.3, edgecolor='black')\n",
    "plt.title('Entire iris data set')\n",
    "plt.xlabel('[cm]')\n",
    "plt.figure(figsize=(18, 12), dpi=600)\n",
    "plt.show()"
   ]
  },
  {
   "cell_type": "code",
   "execution_count": null,
   "metadata": {},
   "outputs": [],
   "source": [
    "# visualize setosa data\n",
    "setosa.plot(kind = \"hist\", bins = 50, range = (0,8), alpha = 0.3, edgecolor = \"black\")\n",
    "plt.title(\"setosa data set\")\n",
    "plt.xlabel(\"[cm]\")\n",
    "plt.show()"
   ]
  }
 ],
 "metadata": {
  "kernelspec": {
   "display_name": "Python 3",
   "language": "python",
   "name": "python3"
  },
  "language_info": {
   "codemirror_mode": {
    "name": "ipython",
    "version": 3
   },
   "file_extension": ".py",
   "mimetype": "text/x-python",
   "name": "python",
   "nbconvert_exporter": "python",
   "pygments_lexer": "ipython3",
   "version": "3.6.6"
  }
 },
 "nbformat": 4,
 "nbformat_minor": 2
}
