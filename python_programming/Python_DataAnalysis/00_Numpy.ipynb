{
 "cells": [
  {
   "cell_type": "markdown",
   "metadata": {
    "colab_type": "text",
    "id": "WUZm-Jbl3V6n"
   },
   "source": [
    "## Numpy\n",
    "NumPy is the fundamental package for scientific computing with Python. "
   ]
  },
  {
   "cell_type": "markdown",
   "metadata": {
    "colab_type": "text",
    "id": "iD7UV4-X3V6u"
   },
   "source": [
    "NumPy’s main object is the homogeneous multidimensional array.  \n",
    "It is a table of elements (usually numbers), all of the **same type**, indexed by a tuple of positive integers.  \n",
    "In NumPy dimensions are called **axes**."
   ]
  },
  {
   "cell_type": "markdown",
   "metadata": {
    "colab_type": "text",
    "id": "dmiOTkla3V6v"
   },
   "source": [
    "### Concept of axis\n",
    "\n",
    "Reference: 手把手打開資料分析大門\n",
    "https://www.slideshare.net/tw_dsconf/python-83977705/61"
   ]
  },
  {
   "cell_type": "code",
   "execution_count": null,
   "metadata": {
    "colab": {},
    "colab_type": "code",
    "id": "tjZxPx4r3V6x",
    "outputId": "d9bf69e5-7c70-42fd-fc9d-1cc927692023"
   },
   "outputs": [],
   "source": [
    "# one axis\n",
    "[1, 3, 5]  # 3 elements, it has a length of 3.\n",
    "\n",
    "# 2 axes\n",
    "[[ 1, 3, 5],\n",
    " [ 2, 4, 6]]  # The first axis has a length of 2, the second axis has a length of 3."
   ]
  },
  {
   "cell_type": "markdown",
   "metadata": {
    "colab_type": "text",
    "id": "fB0J_NkH3V68"
   },
   "source": [
    "NumPy’s array class is called **ndarray**. It is also known by the alias **array**.  \n",
    "Note that numpy.array is not the same as the Standard Python Library class array.array, which only handles one-dimensional arrays and offers less functionality."
   ]
  },
  {
   "cell_type": "markdown",
   "metadata": {
    "colab_type": "text",
    "id": "5Op5IzAE3V6-"
   },
   "source": [
    "### Create ndarray"
   ]
  },
  {
   "cell_type": "code",
   "execution_count": null,
   "metadata": {
    "colab": {},
    "colab_type": "code",
    "id": "BVgv9uD83V6_",
    "outputId": "6df95208-aded-42ba-f8fa-be7003ca1eac"
   },
   "outputs": [],
   "source": [
    "import numpy as np\n",
    "\n",
    "# create 1 axis array\n",
    "x = np.arange(3)\n",
    "\n",
    "print(x)\n",
    "print(type(x))  # <class 'numpy.ndarray'>\n",
    "\n",
    "# check if ndarray type\n",
    "isinstance(x, np.ndarray)  # True\n",
    "\n",
    "# be explicitly specified type\n",
    "y = np.arange(3, dtype='float64')  # [ 0.  1.  2.]\n",
    "print(y)"
   ]
  },
  {
   "cell_type": "code",
   "execution_count": null,
   "metadata": {
    "colab": {},
    "colab_type": "code",
    "id": "O6DOudc03V7F",
    "outputId": "2fd411e0-22f0-4492-a13f-1edfe4c0c063"
   },
   "outputs": [],
   "source": [
    "import numpy as np\n",
    "\n",
    "existed_list = [18, 15, 21, 10, 88, 76, 29, 20]\n",
    "\n",
    "np_array = np.array(existed_list)\n",
    "print(np_array)  # [18 15 21 10 88 76 29 20]"
   ]
  },
  {
   "cell_type": "markdown",
   "metadata": {
    "colab_type": "text",
    "id": "MtyzYeUy3V7J"
   },
   "source": [
    "### Important attributes of  ndarray"
   ]
  },
  {
   "cell_type": "code",
   "execution_count": null,
   "metadata": {
    "colab": {},
    "colab_type": "code",
    "id": "2STp8nGX3V7L",
    "outputId": "a720ff72-7fd7-4b1b-e2e1-c16d91d50331"
   },
   "outputs": [],
   "source": [
    "import numpy as np\n",
    "\n",
    "x = np.arange(3)\n",
    "print(x)\n",
    "\n",
    "# ndim - the number of axes (dimensions) of the array.\n",
    "print(x.ndim)  # 1 dim\n",
    "\n",
    "# shape - the dimensions of the array. \n",
    "# This is a tuple of integers indicating the size of the array in each dimension.\n",
    "print(x.shape)  # (3, )\n",
    "\n",
    "# size - the total number of elements of the array. \n",
    "print(x.size)  # 3\n",
    "\n",
    "# dtype - the type of the elements in the array.\n",
    "print(x.dtype)  # int64"
   ]
  },
  {
   "cell_type": "markdown",
   "metadata": {
    "colab_type": "text",
    "id": "05eDQfOH3V7O"
   },
   "source": [
    "### Axes reshape\n",
    "Gives a new shape to an array without changing its data."
   ]
  },
  {
   "cell_type": "code",
   "execution_count": null,
   "metadata": {
    "colab": {},
    "colab_type": "code",
    "id": "Y15a15b93V7P",
    "outputId": "3617bd17-dc59-435c-8f39-1399b37320dd"
   },
   "outputs": [],
   "source": [
    "# reshape\n",
    "x = np.arange(6)\n",
    "print(x)  # [0 1 2 3 4 5]\n",
    "\n",
    "new_shape = x.reshape(2, 3)\n",
    "print(new_shape) # [[0 1 2]\n",
    "                 #  [3 4 5]]\n",
    "\n",
    "# equivalently\n",
    "new_shape = np.reshape(x, (2, 3))    \n",
    "    \n",
    "    \n",
    "# also can be one line to create and reshpae\n",
    "y = np.arange(6).reshape(2, 3)"
   ]
  },
  {
   "cell_type": "markdown",
   "metadata": {
    "colab_type": "text",
    "id": "wj4B74ga3V7V"
   },
   "source": [
    "### Initial placeholder content"
   ]
  },
  {
   "cell_type": "code",
   "execution_count": null,
   "metadata": {
    "colab": {},
    "colab_type": "code",
    "id": "4iSp-YEa3V7V",
    "outputId": "ea95eac7-cbf1-4a0f-a74e-9470e3f2cd32"
   },
   "outputs": [],
   "source": [
    "# np.zeros - full of zeros\n",
    "np.zeros(3)  # array([ 0.,  0.,  0.])\n",
    "\n",
    "np.zeros((2, 3))  # array([[ 0.,  0.,  0.],\n",
    "                  #        [ 0.,  0.,  0.]])\n",
    "\n",
    "    \n",
    "# np.ones - full of ones\n",
    "np.ones((2,3))  # array([[ 1.,  1.,  1.],\n",
    "                #        [ 1.,  1.,  1.]])\n",
    "\n",
    "    \n",
    "# np.identity - a square array with ones on the main diagonal\n",
    "np.identity(3)  # array([[ 1.,  0.,  0.],\n",
    "                #        [ 0.,  1.,  0.],\n",
    "                #        [ 0.,  0.,  1.]])\n",
    "\n",
    "\n",
    "# By default, the dtype of the created array is float64.\n",
    "# using dtype change the type\n",
    "# np.zeros(3, dtype=np.int16)"
   ]
  },
  {
   "cell_type": "markdown",
   "metadata": {
    "colab_type": "text",
    "id": "_mwttuJm3V7a"
   },
   "source": [
    "### Array Index\n",
    "\n",
    "Array indexing refers to any use of the square brackets ( [ ] ) to index array values."
   ]
  },
  {
   "cell_type": "code",
   "execution_count": null,
   "metadata": {
    "colab": {},
    "colab_type": "code",
    "id": "_fcHtZer3V7b",
    "outputId": "a5eeb846-3dca-4937-d1a3-38e16368c07f"
   },
   "outputs": [],
   "source": [
    "import numpy as np\n",
    "\n",
    "# 1-D array\n",
    "x = np.arange(6)  # array([0, 1, 2, 3, 4, 5])\n",
    "x[2]   # 2\n",
    "x[-2]  # 4\n",
    "\n",
    "\n",
    "# 2-D array\n",
    "x = np.arange(6).reshape(2, 3)  #[[0, 1, 2],\n",
    "                                # [3, 4, 5]])\n",
    "x[0, 2]   # 2\n",
    "x[1, -1]  # 5"
   ]
  },
  {
   "cell_type": "markdown",
   "metadata": {
    "colab_type": "text",
    "id": "1Z5PpmM83V7g"
   },
   "source": [
    "### Array Slice & Stride\n",
    "\n",
    "The slicing and striding works exactly the same way it does for lists except that they can be applied to multiple dimensions as well."
   ]
  },
  {
   "cell_type": "code",
   "execution_count": null,
   "metadata": {
    "colab": {
     "base_uri": "https://localhost:8080/",
     "height": 51
    },
    "colab_type": "code",
    "executionInfo": {
     "elapsed": 2271,
     "status": "ok",
     "timestamp": 1535448571129,
     "user": {
      "displayName": "Yueh-Lin Tsai",
      "photoUrl": "https://lh3.googleusercontent.com/a/default-user=s128",
      "userId": "101881340585108244398"
     },
     "user_tz": -480
    },
    "id": "3XkOklq73V7h",
    "outputId": "32b8a12e-15af-46c9-d098-9f8033c93dae"
   },
   "outputs": [],
   "source": [
    "import numpy as np\n",
    "\n",
    "# 1-D array\n",
    "x = np.arange(6)  # array([0, 1, 2, 3, 4, 5])\n",
    "x[1:5]   # [1, 2, 3, 4]\n",
    "x[:2]    # [0, 1]\n",
    "x[1:5:2] # [1, 3]\n",
    "\n",
    "\n",
    "# 2-D array\n",
    "x = np.arange(6).reshape(2, 3)  #[[0, 1, 2],\n",
    "                                # [3, 4, 5]])\n",
    "x[0, 0:2]    #  [0, 1]\n",
    "x[:, 1:]     # [[1, 2],\n",
    "             #  [4, 5]]\n",
    "x[::1, ::2]  # [[0, 2],\n",
    "             #  [3, 5]]"
   ]
  },
  {
   "cell_type": "markdown",
   "metadata": {
    "colab_type": "text",
    "id": "nwLTG7yE3V7m"
   },
   "source": [
    "### Boolean / Mask Index \n",
    "Boolean arrays must be of the same shape as the initial dimensions of the array being indexed."
   ]
  },
  {
   "cell_type": "code",
   "execution_count": null,
   "metadata": {
    "colab": {},
    "colab_type": "code",
    "id": "cI4Eqxbj3V7n",
    "outputId": "9fa13507-b980-48b5-a355-16b42dc9aae1"
   },
   "outputs": [],
   "source": [
    "import numpy as np\n",
    "\n",
    "# 1-D array\n",
    "x = np.arange(6)  # array([0, 1, 2, 3, 4, 5])\n",
    "condition = x<3\n",
    "x[condition]      # [0, 1, 2]\n",
    "\n",
    "x[condition] = 0\n",
    "x                 # [0, 0, 0, 3, 4, 5]\n",
    "\n",
    "\n",
    "# why called mask?\n",
    "\n",
    "# original_x      # [ 0,    1,    2,   3,    4,    5]\n",
    "# if <3, assign 0\n",
    "print(condition)  # [ True  True  True False False False]\n",
    "x                 # [ 0,    0,    0,   3,    4,    5]"
   ]
  },
  {
   "cell_type": "markdown",
   "metadata": {
    "colab_type": "text",
    "id": "JyTdvATW3V7r"
   },
   "source": [
    "### Concatenate\n",
    "Join a sequence of arrays along an existing axis."
   ]
  },
  {
   "cell_type": "code",
   "execution_count": null,
   "metadata": {
    "colab": {},
    "colab_type": "code",
    "id": "t8yIrW_L3V7s",
    "outputId": "3b6cf6ba-349c-4bfe-b72b-7ddf779c7166"
   },
   "outputs": [],
   "source": [
    "import numpy as np\n",
    "\n",
    "a = np.array([[1, 2, 3], [4, 5, 6]])\n",
    "b = np.array([[7, 8, 9]])\n",
    "\n",
    "np.concatenate((a, b), axis=0)  # [[1, 2, 3],\n",
    "                                #  [4, 5, 6],\n",
    "                                #  [7, 8, 9]]\n",
    "\n",
    "c =  [[0], [0]]       \n",
    "np.concatenate((a, c), axis=1)  # [[1, 2, 3, 0],\n",
    "                                #  [4, 5, 6, 0]]"
   ]
  },
  {
   "cell_type": "markdown",
   "metadata": {
    "colab_type": "text",
    "id": "U1TmkxVn3V7x"
   },
   "source": [
    "### Basic Operations"
   ]
  },
  {
   "cell_type": "code",
   "execution_count": null,
   "metadata": {
    "colab": {},
    "colab_type": "code",
    "id": "9YEhw96i3V7z",
    "outputId": "32ae5c3e-b91d-4e97-f56d-8306b15714d6"
   },
   "outputs": [],
   "source": [
    "import numpy as np\n",
    "a = np.array([[1, 2], [3, 4]])\n",
    "b = np.array([[5, 6], [7, 8]])\n",
    "\n",
    "print(a + b)  # array([[6, 8], [10, 12]])\n",
    "print(a - b)  # array([[-4, -4], [-4, -4]])\n",
    "print(a * b)  # array([[5, 12], [21, 32]])\n",
    "print(a / b)  # array([[0.2, 0.33333333], [0.42857143, 0.5]]\n",
    "\n",
    "print(a - 1)  # array([[0, 1], [2, 3]])\n",
    "print(a * 2)  # array([[2, 4], [6, 8]])"
   ]
  },
  {
   "cell_type": "markdown",
   "metadata": {
    "colab_type": "text",
    "id": "L-uLxLnm3V77"
   },
   "source": [
    "### Basic Linear Algebra\n",
    "\n",
    "轉置矩陣：m \\* n 矩陣在向量空間上轉置為 n \\* m 矩陣  \n",
    "逆矩陣：n \\* n 矩陣 A 存在一個 n \\* n 矩陣 B，使得 AB = BA = I"
   ]
  },
  {
   "cell_type": "code",
   "execution_count": null,
   "metadata": {
    "colab": {},
    "colab_type": "code",
    "id": "ELGfnIl53V78",
    "outputId": "0f1196d4-6fba-46c4-ca34-119cd3f1ad0a"
   },
   "outputs": [],
   "source": [
    "import numpy as np\n",
    "\n",
    "# 轉置矩陣\n",
    "a = np.array([[0, 1], \n",
    "              [2, 3]])\n",
    "\n",
    "print(a.T)  #[[0, 2],\n",
    "            # [1, 3]]\n",
    "\n",
    "# 逆矩陣\n",
    "inverse = np.linalg.inv(a)\n",
    "print(inverse)             # [[-1.5, 0.5], \n",
    "                           #  [1,    0]]\n",
    "\n",
    "# 內積 \n",
    "print(np.dot(a, inverse))  # [[ 1.  0.]\n",
    "                           #  [ 0.  1.]]"
   ]
  },
  {
   "cell_type": "markdown",
   "metadata": {
    "colab_type": "text",
    "id": "cLcs0Nvz3V8A"
   },
   "source": [
    "### Vector Stacking"
   ]
  },
  {
   "cell_type": "code",
   "execution_count": null,
   "metadata": {
    "colab": {},
    "colab_type": "code",
    "id": "VyE0M7WS3V8B",
    "outputId": "c85fe29e-134d-4cc7-b30e-022acc9a3284"
   },
   "outputs": [],
   "source": [
    "import numpy as np\n",
    "\n",
    "a = np.array([[0, 1], \n",
    "              [2, 3]])\n",
    "\n",
    "b = np.array([[4, 5], \n",
    "              [6, 7]])\n",
    "\n",
    "c = np.array([[8,  9], \n",
    "              [10, 11]])\n",
    "\n",
    "# vertical\n",
    "v = np.vstack((a, b, c))\n",
    "print(v.shape)  # (6, 2)\n",
    "print(v)\n",
    "\n",
    "# horizontal\n",
    "h = np.hstack((a, b, c))\n",
    "print(h.shape)  # (2, 6)\n",
    "print(h)\n",
    "\n",
    "# stack \n",
    "s = np.stack([a, b, c], axis=0)\n",
    "print(s.shape)  # (3, 2, 2)\n",
    "print(s)"
   ]
  },
  {
   "cell_type": "markdown",
   "metadata": {
    "colab_type": "text",
    "id": "ggFUZOmm3V8H"
   },
   "source": [
    "## 練習題"
   ]
  },
  {
   "cell_type": "code",
   "execution_count": null,
   "metadata": {
    "colab": {},
    "colab_type": "code",
    "id": "6KNEKLNu3V8H"
   },
   "outputs": [],
   "source": [
    "import numpy as np"
   ]
  },
  {
   "cell_type": "markdown",
   "metadata": {
    "colab_type": "raw",
    "id": "8mTIn94S3V8L"
   },
   "source": [
    "Q1. Create a vector with values ranging from 10 to 49 by np.arrange"
   ]
  },
  {
   "cell_type": "code",
   "execution_count": null,
   "metadata": {
    "colab": {},
    "colab_type": "code",
    "id": "nB7ScIE23V8M",
    "outputId": "4397b0c3-1e78-49da-d021-b8c08d3e8a49"
   },
   "outputs": [],
   "source": []
  },
  {
   "cell_type": "markdown",
   "metadata": {
    "colab_type": "raw",
    "id": "2RnwXmlz3V8Q"
   },
   "source": [
    "Q2. Reverse a vector (first element becomes last)"
   ]
  },
  {
   "cell_type": "code",
   "execution_count": null,
   "metadata": {
    "colab": {},
    "colab_type": "code",
    "id": "9468qVTX3V8R",
    "outputId": "31c3941c-4220-4c29-9821-935f29a9c19c"
   },
   "outputs": [],
   "source": []
  },
  {
   "cell_type": "markdown",
   "metadata": {
    "colab_type": "raw",
    "id": "A5hgfKhP3V8U"
   },
   "source": [
    "Q3. Create a 3x3x3 array with random values by np.random.random"
   ]
  },
  {
   "cell_type": "code",
   "execution_count": null,
   "metadata": {
    "colab": {},
    "colab_type": "code",
    "id": "WdVy_Z683V8V",
    "outputId": "b144837a-5a44-43d1-deb9-749a888e49a0"
   },
   "outputs": [],
   "source": []
  },
  {
   "cell_type": "markdown",
   "metadata": {
    "colab_type": "raw",
    "id": "D4wyuegd3V8Y"
   },
   "source": [
    "Q4. Create a 10x10 array with random values and find the minimum and maximum values by np.min, np.max"
   ]
  },
  {
   "cell_type": "code",
   "execution_count": null,
   "metadata": {
    "colab": {},
    "colab_type": "code",
    "id": "t2j9bQw33V8Z",
    "outputId": "cc3d3591-8eb8-4efa-c612-ed2d5beba94c"
   },
   "outputs": [],
   "source": []
  },
  {
   "cell_type": "markdown",
   "metadata": {
    "colab_type": "raw",
    "id": "epQjVRA73V8e"
   },
   "source": [
    "Q5. Add a border (filled with 0's) around an 3 * 3 matrix with 1 by np.pad"
   ]
  },
  {
   "cell_type": "code",
   "execution_count": null,
   "metadata": {
    "colab": {},
    "colab_type": "code",
    "id": "1hp3gjzn3V8e",
    "outputId": "cb3fa850-de84-4562-d71b-91c950fbe1ca"
   },
   "outputs": [],
   "source": []
  },
  {
   "cell_type": "markdown",
   "metadata": {
    "colab_type": "raw",
    "id": "ADh7G-7E3V8i"
   },
   "source": [
    "Q6. Normalize a 5x5 random matrix by divide max number"
   ]
  },
  {
   "cell_type": "code",
   "execution_count": null,
   "metadata": {},
   "outputs": [],
   "source": []
  },
  {
   "cell_type": "markdown",
   "metadata": {
    "colab_type": "raw",
    "id": "1Av_uBWF3V8m"
   },
   "source": [
    "Q7. Given a 1D array, negate all elements which are between 3 and 8, in place."
   ]
  },
  {
   "cell_type": "code",
   "execution_count": null,
   "metadata": {},
   "outputs": [],
   "source": []
  },
  {
   "cell_type": "markdown",
   "metadata": {
    "colab_type": "raw",
    "id": "oXdWRI5a3V8t"
   },
   "source": [
    "Q8. Extract from the array np.array([3,4,6,10,24,89,45,43,46,99,100]) with Boolean masking all the number:  \n",
    "\n",
    "(1) which are not divisible by 3  \n",
    "(2) which are divisible by 5  \n",
    "(3) which are divisible by 3 and 5"
   ]
  },
  {
   "cell_type": "code",
   "execution_count": null,
   "metadata": {},
   "outputs": [],
   "source": []
  },
  {
   "cell_type": "markdown",
   "metadata": {
    "colab_type": "raw",
    "id": "gJP6Dr423V80"
   },
   "source": [
    "Q9. Create random vector of size 10 and replace the maximum value by 0 (np.argmax)"
   ]
  },
  {
   "cell_type": "code",
   "execution_count": null,
   "metadata": {},
   "outputs": [],
   "source": []
  },
  {
   "cell_type": "markdown",
   "metadata": {
    "colab_type": "raw",
    "id": "2VKLW80j3V89"
   },
   "source": [
    "Q10. Create a 5x5 matrix with row values ranging from 0 to 4"
   ]
  },
  {
   "cell_type": "code",
   "execution_count": null,
   "metadata": {},
   "outputs": [],
   "source": []
  },
  {
   "cell_type": "markdown",
   "metadata": {
    "colab_type": "text",
    "id": "QaKEuybI3V9E"
   },
   "source": [
    "### 請參考 [100-numpy-exercises](https://github.com/rougier/numpy-100/blob/master/100_Numpy_exercises.ipynb) 做更多 numpy 的操作練習"
   ]
  }
 ],
 "metadata": {
  "colab": {
   "collapsed_sections": [],
   "name": "00_Numpy.ipynb",
   "provenance": [],
   "version": "0.3.2"
  },
  "kernelspec": {
   "display_name": "Python 3",
   "language": "python",
   "name": "python3"
  },
  "language_info": {
   "codemirror_mode": {
    "name": "ipython",
    "version": 3
   },
   "file_extension": ".py",
   "mimetype": "text/x-python",
   "name": "python",
   "nbconvert_exporter": "python",
   "pygments_lexer": "ipython3",
   "version": "3.6.6"
  }
 },
 "nbformat": 4,
 "nbformat_minor": 2
}
