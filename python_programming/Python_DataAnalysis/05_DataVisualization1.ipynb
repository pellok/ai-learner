{
 "cells": [
  {
   "cell_type": "code",
   "execution_count": null,
   "metadata": {},
   "outputs": [],
   "source": [
    "import matplotlib.pyplot as plt\n",
    "import pandas as pd\n",
    "\n",
    "edu = pd.read_csv(\"plt/percent-bachelors-degrees-women-usa.csv\")\n",
    "edu.columns #check columnnames\n",
    "edu.head() "
   ]
  },
  {
   "cell_type": "code",
   "execution_count": null,
   "metadata": {},
   "outputs": [],
   "source": [
    "edu.sum(axis=1)"
   ]
  },
  {
   "cell_type": "code",
   "execution_count": null,
   "metadata": {},
   "outputs": [],
   "source": [
    "## plt.show() 出現時才會將圖畫出來\n",
    "# Plot in blue the % of degrees awarded to women in the Physical Sciences\n",
    "plt.plot(edu.Year,edu['Physical Sciences'],color = 'blue')\n",
    "\n",
    "# Plot in red the % of degrees awarded to women in Computer Science\n",
    "plt.plot(edu.Year,edu['Computer Science'],color  = 'red')\n",
    "\n",
    "# Display the plot\n",
    "plt.show()\n"
   ]
  },
  {
   "cell_type": "markdown",
   "metadata": {},
   "source": [
    "## Using axes"
   ]
  },
  {
   "cell_type": "code",
   "execution_count": null,
   "metadata": {},
   "outputs": [],
   "source": [
    "#建立一個Figure（空的顯示區）\n",
    "fig = plt.figure() \n",
    "\n",
    "#新增Figure的axes（左,下,寬度,高度)，範圍佔Figure的比例（數值介於0-1）\n",
    "axes1 = fig.add_axes([0.05, 0.05, 0.425, 0.8])\n",
    "axes2 = fig.add_axes([0.525,0.05,0.425,0.8])\n",
    "\n",
    "#再製圖在剛剛建立的axes上\n",
    "axes1.plot(edu.Year,edu['Physical Sciences'],color = 'blue')\n",
    "axes1.set_xlabel('Year')\n",
    "axes1.set_ylabel('Physical Science')\n",
    "axes1.set_title('year vs PS')\n",
    "\n",
    "axes2.plot(edu.Year,edu['Computer Science'],color  = 'red')\n",
    "axes2.set_xlabel('Year')\n",
    "axes2.set_ylabel(\"CS\")\n",
    "axes2.set_title('Year vs CS')\n",
    "\n",
    "fig.suptitle('Comparison', fontsize=16, fontweight='bold')\n",
    "plt.show()\n",
    "\n",
    "#ref: https://matplotlib.org/api/axes_api.html"
   ]
  },
  {
   "cell_type": "code",
   "execution_count": null,
   "metadata": {},
   "outputs": [],
   "source": [
    "# Create plot axes for the first line plot\n",
    "plt.axes([0.05, 0.05, 0.425, 0.9])  #[xlo, ylo, width, height]  \n",
    "\n",
    "# Plot in blue the % of degrees awarded to women in the Physical Sciences\n",
    "plt.plot(edu.Year,edu['Physical Sciences'],color = 'blue')\n",
    "plt.xlabel('Year')\n",
    "plt.ylabel('Physical Science')\n",
    "plt.title('year vs PS')\n",
    "# Create plot axes for the second line plot\n",
    "plt.axes([0.525,0.05,0.425,0.9])\n",
    "\n",
    "# Plot in red the % of degrees awarded to women in Computer Science\n",
    "plt.plot(edu.Year,edu['Computer Science'],color  = 'red')\n",
    "plt.xlabel('Year')\n",
    "plt.ylabel(\"CS\")\n",
    "plt.title('Year vs CS')\n",
    "# Display the plot\n",
    "\n",
    "plt.show()\n"
   ]
  },
  {
   "cell_type": "markdown",
   "metadata": {},
   "source": [
    "## Using subplot"
   ]
  },
  {
   "cell_type": "code",
   "execution_count": null,
   "metadata": {},
   "outputs": [],
   "source": [
    "\n",
    "## draw a 2x2 plot\n",
    "# Create a figure with 2x2 subplot layout and make the top left subplot active\n",
    "plt.figure()\n",
    "\n",
    "ax1 = plt.subplot(2,2,1)\n",
    "\n",
    "# Plot in blue the % of degrees awarded to women in the Physical Sciences\n",
    "ax1.plot(edu.Year,edu['Physical Sciences'],color = 'blue')\n",
    "ax1.title.set_text('Physical Sciences')\n",
    "\n",
    "# Make the top right subplot active in the current 2x2 subplot grid \n",
    "ax2 = plt.subplot(2,2,2)\n",
    "\n",
    "# Plot in red the % of degrees awarded to women in Computer Science\n",
    "ax2.plot(edu.Year, edu[\"Computer Science\"], color='red')\n",
    "ax2.title.set_text('Computer Science')\n",
    "\n",
    "# Make the bottom left subplot active in the current 2x2 subplot grid\n",
    "ax3 = plt.subplot(2,2,3)\n",
    "\n",
    "# Plot in green the % of degrees awarded to women in Health Professions\n",
    "ax3.plot(edu.Year, edu[\"Health Professions\"], color='green')\n",
    "ax3.title.set_text('Health Professions')\n",
    "ax3.set_xlabel(\"Year\")\n",
    "\n",
    "# Make the bottom right subplot active in the current 2x2 subplot grid\n",
    "ax4 = plt.subplot(2,2,4)\n",
    "\n",
    "# Plot in yellow the % of degrees awarded to women in Education\n",
    "ax4.plot(edu.Year, edu.Education, color='yellow')\n",
    "ax4.title.set_text('Education')\n",
    "\n",
    "# Improve the spacing between subplots and display them\n",
    "plt.tight_layout()\n",
    "plt.show()\n"
   ]
  },
  {
   "cell_type": "markdown",
   "metadata": {},
   "source": [
    "## subplot 另一種寫法"
   ]
  },
  {
   "cell_type": "code",
   "execution_count": null,
   "metadata": {},
   "outputs": [],
   "source": [
    "# Create a figure with 1x2 subplot and make the left subplot active\n",
    "plt.subplot(1,3,1)\n",
    "\n",
    "# Plot in blue the % of degrees awarded to women in the Physical Sciences\n",
    "plt.plot(edu.Year,edu['Physical Sciences'],color = 'blue')\n",
    "plt.title('Physical Sciences')\n",
    "\n",
    "# Make the right subplot active in the current 1x2 subplot grid\n",
    "plt.subplot(1,3,2)\n",
    "\n",
    "# Plot in red the % of degrees awarded to women in Computer Science\n",
    "plt.plot(edu.Year,edu['Computer Science'],color  = 'red')\n",
    "plt.title('Computer Science')\n",
    "\n",
    "# Make the right subplot active in the current 1x2 subplot grid\n",
    "plt.subplot(1,3,3)\n",
    "\n",
    "# Plot in red the % of degrees awarded to women in Computer Science\n",
    "plt.plot(edu.Year,edu['Math and Statistics'],color  = 'green')\n",
    "plt.title('Math and Statistics')\n",
    "\n",
    "# Use plt.tight_layout() to improve the spacing between subplots\n",
    "plt.tight_layout() ##自動排版，可以拿掉試試看\n",
    "plt.show()"
   ]
  },
  {
   "cell_type": "markdown",
   "metadata": {},
   "source": [
    "## Using xlim(), ylim()"
   ]
  },
  {
   "cell_type": "code",
   "execution_count": null,
   "metadata": {},
   "outputs": [],
   "source": [
    "# Plot the % of degrees awarded to women in Computer Science and the Physical Sciences\n",
    "plt.plot(edu.Year,edu['Computer Science'], color='red') \n",
    "plt.plot(edu.Year, edu['Physical Sciences'], color='blue')\n",
    "\n",
    "# Add the axis labels\n",
    "plt.xlabel('Year')\n",
    "plt.ylabel('Degrees awarded to women (%)')\n",
    "\n",
    "# Set the x-axis range\n",
    "plt.xlim([1990,2010])\n",
    "\n",
    "# Set the y-axis range\n",
    "plt.ylim([0,50])\n",
    "\n",
    "#plt.axis([1990,2010,0,50]) == plt.xlim + plt.ylim\n",
    "\n",
    "# Add a title and display the plot\n",
    "plt.title('Degrees awarded to women (1990-2010)\\nComputer Science (red)\\nPhysical Sciences (blue)')\n",
    "# Save the image as 'xlim_and_ylim.png'\n",
    "# plt.style.use(\"ggplot\")\n",
    "plt.savefig('xlim_and_ylim.png', dpi= 100)\n",
    "plt.show()\n",
    "\n",
    "\n",
    "\n"
   ]
  },
  {
   "cell_type": "markdown",
   "metadata": {},
   "source": [
    "## add legend"
   ]
  },
  {
   "cell_type": "code",
   "execution_count": null,
   "metadata": {},
   "outputs": [],
   "source": [
    "# Specify the label 'Computer Science'\n",
    "plt.plot(edu.Year, edu[\"Computer Science\"], color='red', label='Computer Science') \n",
    "\n",
    "# Specify the label 'Physical Sciences' \n",
    "plt.plot(edu.Year, edu[\"Physical Sciences\"], color='blue', label=\"Physical Sciences\")\n",
    "\n",
    "# Add a legend at the lower center\n",
    "plt.legend(loc = \"lower center\") #loc = 8(lower center)\n",
    "\n",
    "# Add axis labels and title\n",
    "plt.xlabel('Year')\n",
    "plt.ylabel('Enrollment (%)')\n",
    "plt.title('Undergraduate enrollment of women')\n",
    "plt.show()\n"
   ]
  },
  {
   "cell_type": "markdown",
   "metadata": {},
   "source": [
    "## Using annotate"
   ]
  },
  {
   "cell_type": "code",
   "execution_count": null,
   "metadata": {},
   "outputs": [],
   "source": [
    "# Plot with legend as before\n",
    "plt.plot(edu.Year, edu[\"Computer Science\"], color='red', label='Computer Science') \n",
    "plt.plot(edu.Year, edu[\"Physical Sciences\"], color='blue', label='Physical Sciences')\n",
    "plt.legend(loc='lower right')\n",
    "\n",
    "# Compute the maximum enrollment of women in Computer Science: cs_max\n",
    "cs_max = edu[\"Computer Science\"].max() \n",
    "\n",
    "# Calculate the year in which there was maximum enrollment of women in Computer Science: yr_max\n",
    "yr_max = edu.Year[edu[\"Computer Science\"].argmax()]\n",
    "\n",
    "# Add a black arrow annotation\n",
    "plt.annotate(\"Maximum\", xy = (yr_max, cs_max), xytext = (yr_max+3, cs_max+3) ,arrowprops=dict(facecolor='black'))\n",
    "\n",
    "# Add axis labels and title\n",
    "plt.xlabel('Year')\n",
    "plt.ylabel('Enrollment (%)')\n",
    "plt.title('Undergraduate enrollment of women')\n",
    "plt.show()\n"
   ]
  },
  {
   "cell_type": "code",
   "execution_count": null,
   "metadata": {},
   "outputs": [],
   "source": [
    "# Import matplotlib.pyplot\n",
    "import matplotlib.pyplot as plt\n",
    "\n",
    "# Set the style to 'ggplot'\n",
    "plt.style.use(\"ggplot\")\n",
    "\n",
    "# Create a figure with 2x2 subplot layout\n",
    "plt.subplot(2, 2, 1) \n",
    "\n",
    "# Plot the enrollment % of women in the Physical Sciences\n",
    "plt.plot(edu.Year, edu[\"Physical Sciences\"], color='blue')\n",
    "plt.title('Physical Sciences')\n",
    "\n",
    "# Plot the enrollment % of women in Computer Science\n",
    "plt.subplot(2, 2, 2)\n",
    "plt.plot(edu.Year, edu[\"Computer Science\"], color='red')\n",
    "plt.title('Computer Science')\n",
    "\n",
    "# Add annotation\n",
    "cs_max = edu[\"Computer Science\"].max()\n",
    "yr_max = edu.Year[edu[\"Computer Science\"].argmax()]\n",
    "plt.annotate('Maximum', xy=(yr_max, cs_max), xytext=(yr_max-1, cs_max-10), arrowprops=dict(facecolor='black'))\n",
    "\n",
    "# Plot the enrollmment % of women in Health professions\n",
    "plt.subplot(2, 2, 3)\n",
    "plt.plot(edu.Year, edu[\"Health Professions\"], color='green')\n",
    "plt.title('Health Professions')\n",
    "\n",
    "# Plot the enrollment % of women in Education\n",
    "plt.subplot(2, 2, 4)\n",
    "plt.plot(edu.Year, edu[\"Education\"], color='yellow')\n",
    "plt.title('Education')\n",
    "\n",
    "# Improve spacing between subplots and display them\n",
    "plt.tight_layout()\n",
    "plt.show()\n"
   ]
  },
  {
   "cell_type": "code",
   "execution_count": null,
   "metadata": {},
   "outputs": [],
   "source": [
    "plt.style.available"
   ]
  },
  {
   "cell_type": "markdown",
   "metadata": {},
   "source": [
    "## Exercise"
   ]
  },
  {
   "cell_type": "code",
   "execution_count": null,
   "metadata": {},
   "outputs": [],
   "source": [
    "import pandas as pd\n",
    "import numpy as np\n",
    "import math\n",
    "import decimal\n",
    "import matplotlib.pyplot as plt\n",
    "data = pd.read_excel(\"plt/AIA_City.xlsx\")\n",
    "\n",
    "## 學員來源\n",
    "label_x = ['Taipei', 'New Taipei City', 'Kaohsiung', 'Taoyuan', 'Taichung', 'Hsinchu', 'Keelung', 'Tainan', 'Pingtung',\n",
    "           'Chiayi','Yunlin', 'Nantou', 'Miaoli']\n",
    "#'台北市', '新北市', '高雄市', '桃園市', '台中市','新竹市', '基隆市', '台南市', '屏東縣', '嘉義縣', '雲林縣', '南投縣', '苗栗縣'\n",
    "\n",
    "\n",
    "\n",
    "\n",
    "\n",
    "\n",
    "\n",
    "\n",
    "\n",
    "\n",
    "\n",
    "fig, ax = plt.subplots()    \n",
    "my_color = ['#F67770','#DF8921','#BD9B21','#8DAA20','#2EB51F','#1EBEA9','#1DAEF9','#1FBBD8','#F767DB','#D47AFB',\n",
    "            '#8C96FC','#FD68AC','#F67770']\n",
    "\n",
    "\n",
    "\n",
    "\n",
    "\n",
    "\n",
    "\n",
    "\n",
    "\n",
    "\n",
    "\n",
    "\n",
    "\n",
    "plt.xlabel('Percentage', size = 38)\n",
    "plt.tick_params(axis='both', labelsize=30)\n",
    "plt.tight_layout()\n",
    "fig.set_size_inches(25, 15)\n",
    "fig.savefig('tech_hometown.png', dpi=400)\n",
    "\n",
    "\n",
    "plt.show()\n"
   ]
  }
 ],
 "metadata": {
  "kernelspec": {
   "display_name": "Python 3",
   "language": "python",
   "name": "python3"
  },
  "language_info": {
   "codemirror_mode": {
    "name": "ipython",
    "version": 3
   },
   "file_extension": ".py",
   "mimetype": "text/x-python",
   "name": "python",
   "nbconvert_exporter": "python",
   "pygments_lexer": "ipython3",
   "version": "3.6.6"
  }
 },
 "nbformat": 4,
 "nbformat_minor": 2
}
