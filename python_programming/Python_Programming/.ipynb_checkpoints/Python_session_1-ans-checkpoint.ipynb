{
 "cells": [
  {
   "cell_type": "code",
   "execution_count": null,
   "metadata": {},
   "outputs": [],
   "source": [
    "# first program\n",
    "print('Hello, Students!')\n",
    "print(\"Hello, AI School!\")"
   ]
  },
  {
   "cell_type": "markdown",
   "metadata": {},
   "source": [
    "# Basic Syntax"
   ]
  },
  {
   "cell_type": "markdown",
   "metadata": {},
   "source": [
    "## Variables"
   ]
  },
  {
   "cell_type": "markdown",
   "metadata": {},
   "source": [
    "Variables are reserved memory locations to store values. This means that when you create a variable you reserve some space in memory.\n",
    "\n",
    "The equal sign (=) is used to assign values to variables."
   ]
  },
  {
   "cell_type": "code",
   "execution_count": null,
   "metadata": {},
   "outputs": [],
   "source": [
    "# assignment\n",
    "a = 1\n",
    "b = c = 5\n",
    "\n",
    "print(a)  # 1\n",
    "print(b)  # 5\n",
    "print(c)  # 5"
   ]
  },
  {
   "cell_type": "code",
   "execution_count": null,
   "metadata": {},
   "outputs": [],
   "source": [
    "# assign multiple objects to multiple variables.\n",
    "a, b, c = 1, 2, \"John\"\n",
    "\n",
    "print(a)  # 1\n",
    "print(b)  # 2\n",
    "print(c)  # John"
   ]
  },
  {
   "cell_type": "markdown",
   "metadata": {},
   "source": [
    "##  Data Type"
   ]
  },
  {
   "cell_type": "markdown",
   "metadata": {},
   "source": [
    "The data stored in memory can be of many types.  \n",
    "Python has various standard data types that are used to define the operations possible on them and the storage method for each of them."
   ]
  },
  {
   "cell_type": "code",
   "execution_count": null,
   "metadata": {},
   "outputs": [],
   "source": [
    "counter = 100          # An integer assignment\n",
    "miles   = 1000.0       # A floating point\n",
    "name    = \"John\"       # A string\n",
    "\n",
    "print(counter)  # 100\n",
    "print(miles)    # 1000.0\n",
    "print(name)     # John"
   ]
  },
  {
   "cell_type": "code",
   "execution_count": null,
   "metadata": {},
   "outputs": [],
   "source": [
    "# Type\n",
    "print(type(100))\n",
    "print(type(counter))\n",
    "      \n",
    "print(type(1000.0))\n",
    "print(type(miles))\n",
    "\n",
    "print(type(\"John\"))\n",
    "print(type(name))"
   ]
  },
  {
   "cell_type": "markdown",
   "metadata": {},
   "source": [
    "## Keywords"
   ]
  },
  {
   "cell_type": "markdown",
   "metadata": {},
   "source": [
    "Keywords are the reserved words in Python.\n",
    "\n",
    "We cannot use a keyword as variable name, function name or any other identifier.  \n",
    "They are used to define the syntax and structure of the Python language."
   ]
  },
  {
   "cell_type": "markdown",
   "metadata": {},
   "source": [
    "|-|-|Keywords|-|-|\n",
    "|----|---|---|---|---|\n",
    "|False\t|class\t|finally\t|is\t|return|\n",
    "|None\t|continue\t|for\t|lambda\t|try|\n",
    "|True\t|def\t|from\t|nonlocal\t|while|\n",
    "|and\t|del\t|global\t|not\t|with|\n",
    "|as\t|elif\t|if\t|or\t|yield|\n",
    "|assert\t|else\t|import\t|pass\t| |\n",
    "|break\t|except\t|in\t|raise| |"
   ]
  },
  {
   "cell_type": "markdown",
   "metadata": {},
   "source": [
    "## Operators"
   ]
  },
  {
   "cell_type": "markdown",
   "metadata": {},
   "source": [
    "## Arithmetic Operators"
   ]
  },
  {
   "cell_type": "markdown",
   "metadata": {},
   "source": [
    "| Symbol | Task Performed |\n",
    "|----|---|\n",
    "| +  | Addition |\n",
    "| -  | Subtraction |\n",
    "| /  | division |\n",
    "| %  | mod |\n",
    "| *  | multiplication |\n",
    "| //  | floor division |\n",
    "| **  | to the power of |"
   ]
  },
  {
   "cell_type": "code",
   "execution_count": null,
   "metadata": {},
   "outputs": [],
   "source": [
    "add = 1 + 1    # 2\n",
    "sub = 1 - 1    # 0\n",
    "div = 4 / 2    # 2\n",
    "mod = 4 % 3    # 1\n",
    "mul = 2 * 3    # 6\n",
    "f_div = 5 // 2 # 2\n",
    "power = 2 ** 3 # 8"
   ]
  },
  {
   "cell_type": "markdown",
   "metadata": {},
   "source": [
    "## Comparison Operators"
   ]
  },
  {
   "cell_type": "markdown",
   "metadata": {},
   "source": [
    "| Symbol | Task Performed |\n",
    "|----|---|\n",
    "| == | True, if it is equal |\n",
    "| !=  | True, if not equal to |\n",
    "| < | less than |\n",
    "| > | greater than |\n",
    "| <=  | less than or equal to |\n",
    "| >=  | greater than or equal to |"
   ]
  },
  {
   "cell_type": "code",
   "execution_count": null,
   "metadata": {},
   "outputs": [],
   "source": [
    "a, b = 10, 20\n",
    "\n",
    "a == b    # False\n",
    "a != b    # True\n",
    "a < b     # True\n",
    "a > b     # False\n",
    "a <= b    # True\n",
    "a >= b    # False\n",
    "\n",
    "# Output: False\n",
    "print(a == b)\n",
    "\n",
    "# Output: True\n",
    "print(a != b)"
   ]
  },
  {
   "cell_type": "markdown",
   "metadata": {},
   "source": [
    "## Built-in Functions"
   ]
  },
  {
   "cell_type": "markdown",
   "metadata": {},
   "source": [
    "e.g. print( ), type( ), int( ) and str( )\n",
    "\n",
    "更多的 Built-in function 請參考 https://docs.python.org/3/library/functions.html"
   ]
  },
  {
   "cell_type": "code",
   "execution_count": null,
   "metadata": {},
   "outputs": [],
   "source": [
    "integer = 123\n",
    "string = \"456\"\n",
    "\n",
    "s_to_i = int(string)    # int now\n",
    "i_to_s = str(integer)   # str now\n",
    "\n",
    "print(type(s_to_i))\n",
    "print(type(i_to_s))"
   ]
  },
  {
   "cell_type": "markdown",
   "metadata": {},
   "source": [
    "# *_練習 - part 1_*"
   ]
  },
  {
   "cell_type": "markdown",
   "metadata": {},
   "source": [
    "Q1. 輸入兩個整數數字，計算兩數字之加、減、乘、除的結果，並且列印出來。\n",
    "\n",
    "Example Output:  \n",
    "\n",
    "第一個數字? 20\n",
    "第二個數字? 10\n",
    "20 + 10 = 30\n",
    "20 - 10 = 10\n",
    "20 * 10 = 200\n",
    "20 / 10 = 2\n",
    "\n",
    "\n",
    "hint1: 利用內建 input() 取得輸入數字，並且利用 int() 將輸入字串轉成整數。\n",
    "hint2: num1 + num2 = sum 可利用 print(num1, \"+\", num2, \"=\", num1 + num2) 印出"
   ]
  },
  {
   "cell_type": "code",
   "execution_count": null,
   "metadata": {},
   "outputs": [],
   "source": [
    "n1 = int(input(\"第一個數字? \"))\n",
    "n2 = int(input(\"第二個數字? \"))\n",
    "print(n1, \"+\", n2, \"=\", n1 + n2)\n",
    "print(n1, \"-\", n2, \"=\", n1 - n2)\n",
    "print(n1, \"*\", n2, \"=\", n1 * n2)\n",
    "print(n1, \"/\", n2, \"=\", n1 / n2)"
   ]
  },
  {
   "cell_type": "markdown",
   "metadata": {},
   "source": [
    "# Data Structures\n",
    "\n",
    "Data structures are a way of organizing and storing data so that they can be accessed and worked with efficiently.   \n",
    "They define the relationship between the data, and the operations that can be performed on the data."
   ]
  },
  {
   "cell_type": "markdown",
   "metadata": {},
   "source": [
    "## Numbers "
   ]
  },
  {
   "cell_type": "markdown",
   "metadata": {},
   "source": [
    "Python supports integers, floating point numbers and complex numbers.  \n",
    "They are defined as int, float and complex class in Python."
   ]
  },
  {
   "cell_type": "code",
   "execution_count": null,
   "metadata": {},
   "outputs": [],
   "source": [
    "# Output: <class 'int'>\n",
    "print(type(5))\n",
    "\n",
    "# Output: <class 'float'>\n",
    "print(type(5.0))\n",
    "\n",
    "# Output: <class 'complex'>\n",
    "c = 5 + 3j\n",
    "print(type(c))"
   ]
  },
  {
   "cell_type": "markdown",
   "metadata": {},
   "source": [
    "## Lists "
   ]
  },
  {
   "cell_type": "markdown",
   "metadata": {},
   "source": [
    "Lists are the most commonly used data structure. Think of it as a sequence of data that is enclosed in square brackets and data are separated by a comma. Each of these data can be accessed by calling it's index value.\n",
    "\n",
    "A list is created by placing all the items (elements) inside a square bracket [ ], separated by commas."
   ]
  },
  {
   "cell_type": "code",
   "execution_count": null,
   "metadata": {},
   "outputs": [],
   "source": [
    "# empty list\n",
    "my_list = []\n",
    "\n",
    "# list of integers\n",
    "my_list = [1, 2, 3]\n",
    "\n",
    "# list with mixed datatypes\n",
    "my_list = [1, \"Hello\", 2.3]\n",
    "\n",
    "# nested list\n",
    "my_list = [\"mouse\", [8, 4, 6]]"
   ]
  },
  {
   "cell_type": "markdown",
   "metadata": {},
   "source": [
    "### list index\n",
    "We can use the index operator [ ] to access an item in a list. Index starts from 0. So, a list having 5 elements will have index from 0 to 4."
   ]
  },
  {
   "cell_type": "code",
   "execution_count": null,
   "metadata": {},
   "outputs": [],
   "source": [
    "my_list = ['h','e','l','l','o']\n",
    "# Output: h\n",
    "print(my_list[0])\n",
    "\n",
    "# Output: e\n",
    "print(my_list[1])\n",
    "\n",
    "# Error! Only integer can be used for indexing\n",
    "# my_list[5.0]\n",
    "\n",
    "# Nested List\n",
    "n_list = [\"Happy\", [2,0,1,8]]\n",
    "\n",
    "# Output: 8\n",
    "print(n_list[1][3])"
   ]
  },
  {
   "cell_type": "markdown",
   "metadata": {},
   "source": [
    "### Negative indexing\n",
    "Python allows negative indexing for its sequences. The index of -1 refers to the last item, -2 to the second last item and so on."
   ]
  },
  {
   "cell_type": "code",
   "execution_count": null,
   "metadata": {},
   "outputs": [],
   "source": [
    "my_list = ['p','r','o','b','e']\n",
    "\n",
    "# Output: e\n",
    "print(my_list[-1])\n",
    "\n",
    "# Output: p\n",
    "print(my_list[-5])"
   ]
  },
  {
   "cell_type": "markdown",
   "metadata": {},
   "source": [
    "### Slicing\n",
    "Slicing is done by defining the index values of the first element and the last element from the parent list that is required in the sliced list.  \n",
    "It is written as parentlist[ a : b ] where a, b are the index values from the parent list. "
   ]
  },
  {
   "cell_type": "code",
   "execution_count": null,
   "metadata": {},
   "outputs": [],
   "source": [
    "my_list = [0, 1, 2, 3, 4, 5, 6, 7, 8]\n",
    "# elements 3rd to 5th\n",
    "print(my_list[2:5])\n",
    "\n",
    "# elements beginning to 4th\n",
    "print(my_list[:-5])\n",
    "\n",
    "# elements 6th to end\n",
    "print(my_list[5:])\n",
    "\n",
    "# elements beginning to end\n",
    "print(my_list[:])\n",
    "\n",
    "# slice a parent list with a fixed length or step length.\n",
    "print(my_list[::3])"
   ]
  },
  {
   "cell_type": "markdown",
   "metadata": {},
   "source": [
    "### Built-in List Methods\n",
    "Python includes the following list functions −  \n",
    "More methods https://www.programiz.com/python-programming/methods/list"
   ]
  },
  {
   "cell_type": "code",
   "execution_count": null,
   "metadata": {},
   "outputs": [],
   "source": [
    "num_list = [0, 0, 1, 2, 3, 4, 5, 6, 7, 8]\n",
    "\n",
    "# append() is used to add an element at the end of the list.\n",
    "num_list.append(9)\n",
    "\n",
    "# remove() takes a single element as an argument and removes it from the list.\n",
    "num_list.remove(9)\n",
    "\n",
    "# index() is used to find the index value of a particular element. \n",
    "num_list.index(5)\n",
    "\n",
    "# pop() takes a single argument (index) and removes the element present at that index from the list.\n",
    "result = num_list.pop(7)\n",
    "print(result)\n",
    "print(num_list)"
   ]
  },
  {
   "cell_type": "markdown",
   "metadata": {},
   "source": [
    "## Tuples"
   ]
  },
  {
   "cell_type": "markdown",
   "metadata": {},
   "source": [
    "A tuple is similar to a list.  \n",
    "The difference between the two is that we cannot change the elements of a tuple once it is assigned whereas in a list, elements can be changed.\n",
    "\n",
    "A tuple is created by placing all the items (elements) inside a parentheses ( ), separated by comma. "
   ]
  },
  {
   "cell_type": "code",
   "execution_count": null,
   "metadata": {
    "scrolled": true
   },
   "outputs": [],
   "source": [
    "# empty tuple\n",
    "# Output: ()\n",
    "my_tuple = ()\n",
    "print(my_tuple)\n",
    "\n",
    "# tuple having integers\n",
    "# Output: (1, 2, 3)\n",
    "my_tuple = (1, 2, 3)\n",
    "print(my_tuple)"
   ]
  },
  {
   "cell_type": "markdown",
   "metadata": {},
   "source": [
    "## Strings "
   ]
  },
  {
   "cell_type": "markdown",
   "metadata": {},
   "source": [
    "A string is a sequence of characters. \n",
    "\n",
    "In Python, string is a sequence of Unicode character. Unicode was introduced to include every character in all languages and bring uniformity in encoding.  \n",
    "You can learn more about Unicode from here."
   ]
  },
  {
   "cell_type": "code",
   "execution_count": null,
   "metadata": {},
   "outputs": [],
   "source": [
    "# all of the following are equivalent\n",
    "my_string = 'Hello'\n",
    "print(my_string)\n",
    "\n",
    "my_string = \"Hello\"\n",
    "print(my_string)"
   ]
  },
  {
   "cell_type": "code",
   "execution_count": null,
   "metadata": {},
   "outputs": [],
   "source": [
    "my_str = 'Hello World!'\n",
    "print('my_str = ', my_str)\n",
    "\n",
    "# first character\n",
    "print('my_str[0] = ', my_str[0])\n",
    "\n",
    "# last character\n",
    "print('my_str[-1] = ', my_str[-1])\n",
    "\n",
    "# slicing 3nd to 5th character\n",
    "print('my_str[2:5] = ', my_str[2:5])"
   ]
  },
  {
   "cell_type": "code",
   "execution_count": null,
   "metadata": {},
   "outputs": [],
   "source": [
    "str1 = 'Hello'\n",
    "str2 = 'World!'\n",
    "\n",
    "# using +\n",
    "print('str1 + str2 = ', str1 + str2)\n",
    "\n",
    "# using *\n",
    "print('str1 * 3 =', str1 * 3)"
   ]
  },
  {
   "cell_type": "code",
   "execution_count": null,
   "metadata": {},
   "outputs": [],
   "source": [
    "my_string = \"hello world\"\n",
    "\n",
    "# Output: 0\n",
    "print(my_string.find(\"he\"))\n",
    "\n",
    "# Output: Hello world\n",
    "print(my_string.capitalize())\n",
    "\n",
    "# Output: HELLO WORLD\n",
    "print(my_string.upper())\n",
    "\n",
    "# Output: True\n",
    "print(my_string.endswith(\"d\"))\n",
    "\n",
    "# Output: ['hello', 'world']\n",
    "print(my_string.split(\" \"))\n",
    "\n",
    "# Output: Nihao word\n",
    "print(my_string.replace(\"hello\", \"Nihao\"))"
   ]
  },
  {
   "cell_type": "markdown",
   "metadata": {},
   "source": [
    "## Sets"
   ]
  },
  {
   "cell_type": "markdown",
   "metadata": {},
   "source": [
    "A set is an unordered collection of items.  \n",
    "Every element is unique (no duplicates) and must be immutable (which cannot be changed).\n",
    "\n",
    "Sets can be used to perform mathematical set operations like union, intersection, symmetric difference etc."
   ]
  },
  {
   "cell_type": "code",
   "execution_count": null,
   "metadata": {},
   "outputs": [],
   "source": [
    "# set of integers\n",
    "my_set = {1, 2, 3}\n",
    "print(my_set)\n",
    "\n",
    "# set of mixed datatypes\n",
    "my_set = {1.0, \"Hello\", (1, 2, 3)}\n",
    "print(my_set)"
   ]
  },
  {
   "cell_type": "code",
   "execution_count": null,
   "metadata": {},
   "outputs": [],
   "source": [
    "# mathematical set operations\n",
    "\n",
    "set_1 = set(['s', 'p', 'a','m'])\n",
    "set_2 = set(['h','a','m'])  \n",
    "  \n",
    "# union  \n",
    "print(set_1 | set_2)\n",
    "    \n",
    "# intersection  \n",
    "print(set_1 & set_2)\n",
    "  \n",
    "# symmetric difference  \n",
    "print(set_1 - set_2)"
   ]
  },
  {
   "cell_type": "markdown",
   "metadata": {},
   "source": [
    "## Dictionary"
   ]
  },
  {
   "cell_type": "markdown",
   "metadata": {},
   "source": [
    "Python dictionary is an unordered collection of items.  \n",
    "While other compound data types have only value as an element, a dictionary has a key: value pair.\n",
    "\n",
    "Each key is separated from its value by a colon (:), the items are separated by commas, and the whole thing is enclosed in curly braces. An empty dictionary without any items is written with just two curly braces, like this: {}."
   ]
  },
  {
   "cell_type": "code",
   "execution_count": null,
   "metadata": {},
   "outputs": [],
   "source": [
    "# empty dictionary\n",
    "my_dict = {}\n",
    "\n",
    "# dictionary with integer keys\n",
    "my_dict = {1: 'a', 2: 'b'}\n",
    "\n",
    "# dictionary with mixed keys\n",
    "my_dict = {'name': 'Tom', 1: 23}"
   ]
  },
  {
   "cell_type": "code",
   "execution_count": null,
   "metadata": {},
   "outputs": [],
   "source": [
    "# Another define a dictionary - dict()\n",
    "my_dict = dict()\n",
    "\n",
    "# add elements\n",
    "my_dict['One'] = '1'\n",
    "my_dict['OneTwo'] = 12\n",
    "print (my_dict)\n",
    "\n",
    "# update value\n",
    "my_dict['One'] = 111\n",
    "print (my_dict)\n",
    "\n",
    "# Merge two lists to a dictionary.\n",
    "names = ['One', 'Two', 'Three', 'Four', 'Five']\n",
    "numbers = [1, 2, 3, 4, 5]\n",
    "merged_dict = dict(zip(names, numbers))\n",
    "print(merged_dict)"
   ]
  },
  {
   "cell_type": "markdown",
   "metadata": {},
   "source": [
    "### Dictionary Methods\n",
    "More methods - https://www.programiz.com/python-programming/methods/dictionary"
   ]
  },
  {
   "cell_type": "code",
   "execution_count": null,
   "metadata": {},
   "outputs": [],
   "source": [
    "my_dict = {'name':'Jack', 'age': 16, 'gender':'man'}\n",
    "\n",
    "# remove a particular item\n",
    "print(my_dict.pop('gender'))\n",
    "print(my_dict)\n",
    "\n",
    "# Returns view of dictionary's (key, value) pair\n",
    "print(my_dict.items())\n",
    "\n",
    "# Return a new view of the dictionary's keys.\n",
    "print(my_dict.keys())\n",
    "\n",
    "# remove all items\n",
    "my_dict.clear()\n",
    "print(my_dict)"
   ]
  },
  {
   "cell_type": "markdown",
   "metadata": {},
   "source": [
    "# **_練習 - part 2_**"
   ]
  },
  {
   "cell_type": "markdown",
   "metadata": {},
   "source": [
    "Q1. 給定一個 a_list = [3, 7, 6, 2, 9, 4, 1]，請列印出下列結果：  \n",
    "    (1) 第2個元素  \n",
    "    (2) 最後一個元素  \n",
    "    (3) 第3到第5個元素的列表\n",
    "    \n",
    "\n",
    "Q2. \n",
    "\n",
    "| 編號 | 姓名|\n",
    "|---|---|\n",
    "|s1|John|\n",
    "|s2|Tom|\n",
    "|s3|Lisa|\n",
    "\n",
    "(1) 將上述表格資料，存成 Dictionary 的資料結構。 (key = 編號， value = 姓名)  \n",
    "(2) 列印出該 key 為 s2 的 value 的值  \n",
    "(3) 添加人員 編號 s4, 姓名 Mana\n",
    "(4) 刪除人員 John"
   ]
  },
  {
   "cell_type": "code",
   "execution_count": null,
   "metadata": {},
   "outputs": [],
   "source": [
    "# Q1.\n",
    "a_list = [3, 7, 6, 2, 9, 4, 1]\n",
    "print(a_list[1])\n",
    "print(a_list[-1])\n",
    "print(a_list[2:5])\n",
    "\n",
    "# Q2.\n",
    "table = {\"s1\":\"John\", \"s2\":\"Tom\", \"s3\":\"Lisa\"}\n",
    "print(table[\"s1\"])\n",
    "table[\"s4\"] = \"Mana\"\n",
    "table.pop(\"s1\")\n",
    "print(table)"
   ]
  },
  {
   "cell_type": "markdown",
   "metadata": {},
   "source": [
    "# Control Flow"
   ]
  },
  {
   "cell_type": "markdown",
   "metadata": {},
   "source": [
    "## Decision Making"
   ]
  },
  {
   "cell_type": "markdown",
   "metadata": {},
   "source": [
    "Decision making is required when we want to execute a code only if a certain condition is satisfied."
   ]
  },
  {
   "cell_type": "code",
   "execution_count": null,
   "metadata": {
    "scrolled": true
   },
   "outputs": [],
   "source": [
    "# if\n",
    "\n",
    "num = 3\n",
    "if num > 0:\n",
    "    print(num, \"is a positive number.\")\n",
    "\n",
    "num = -1\n",
    "if num > 0:\n",
    "    print(num, \"is a positive number.\")"
   ]
  },
  {
   "cell_type": "code",
   "execution_count": null,
   "metadata": {},
   "outputs": [],
   "source": [
    "# if...else\n",
    "\n",
    "num = -1\n",
    "if num >= 0:\n",
    "    print(num, \"Positive or Zero\")\n",
    "else:\n",
    "    print(num, \"is a Negative number\")"
   ]
  },
  {
   "cell_type": "code",
   "execution_count": null,
   "metadata": {},
   "outputs": [],
   "source": [
    " # if...elif...else\n",
    "\n",
    "num = 0\n",
    "if num > 0:\n",
    "    print(\"Positive number\")\n",
    "elif num == 0:\n",
    "    print(\"Zero\")\n",
    "else:\n",
    "    print(\"Negative number\")    "
   ]
  },
  {
   "cell_type": "code",
   "execution_count": null,
   "metadata": {},
   "outputs": [],
   "source": [
    "# logical - or, and\n",
    "\n",
    "num = 5\n",
    "\n",
    "if num == 0 or num == 1:\n",
    "    print(\"Zero or One\")\n",
    "elif num >= 2 and num <= 10:\n",
    "    print(\"From 2 to 10\")   \n",
    "else:\n",
    "    print('More')"
   ]
  },
  {
   "cell_type": "code",
   "execution_count": null,
   "metadata": {},
   "outputs": [],
   "source": [
    "# is, not\n",
    "\n",
    "num = 4\n",
    "\n",
    "# num == 4\n",
    "if num is 4:\n",
    "    print(\"num is 4\")\n",
    "    \n",
    "# !(num == 5)\n",
    "if not num == 5:\n",
    "    print(\"num is not 5\")\n",
    "\n",
    "# num != 6\n",
    "if num is not 6:\n",
    "    print(\"num is not 6\")\n",
    "\n",
    "# !(num == 7)\n",
    "if not num is 7:\n",
    "    print(\"num is not 7\")"
   ]
  },
  {
   "cell_type": "markdown",
   "metadata": {},
   "source": [
    "## Loop"
   ]
  },
  {
   "cell_type": "markdown",
   "metadata": {},
   "source": [
    "In general, statements are executed sequentially:\n",
    "The first statement in a function is executed first, followed by the second, and so on.  \n",
    "A loop statement allows us to execute a statement or group of statements multiple times.  "
   ]
  },
  {
   "cell_type": "markdown",
   "metadata": {},
   "source": [
    "## For Loop"
   ]
  },
  {
   "cell_type": "markdown",
   "metadata": {},
   "source": [
    "The for loop in Python is used to iterate over a sequence (list, tuple, string) or other iterable objects.\n"
   ]
  },
  {
   "cell_type": "code",
   "execution_count": null,
   "metadata": {},
   "outputs": [],
   "source": [
    "# for\n",
    "# Program to find the sum of all numbers stored in a list\n",
    "\n",
    "numbers = [1, 2, 3, 4, 5, 6, 7, 8, 9, 10]\n",
    "\n",
    "# iterate over the list\n",
    "# Here, val is the variable that takes the value of the item inside the sequence on each iteration.\n",
    "\n",
    "sum = 0\n",
    "for val in numbers:\n",
    "    sum = sum + val\n",
    "\n",
    "print(\"The sum is\", sum)"
   ]
  },
  {
   "cell_type": "markdown",
   "metadata": {},
   "source": [
    "### For loop with range( ) function"
   ]
  },
  {
   "cell_type": "code",
   "execution_count": null,
   "metadata": {},
   "outputs": [],
   "source": [
    "# range(stop)\n",
    "# range(start, stop[, step])\n",
    "\n",
    "# range() returns an immutable sequence object of integers between the given start integer to the stop integer.\n",
    "print(range(6))"
   ]
  },
  {
   "cell_type": "code",
   "execution_count": null,
   "metadata": {},
   "outputs": [],
   "source": [
    "# We can generate a sequence of numbers using range()  \n",
    "# We can also define the start, stop and step size as range(start,stop,step size).   \n",
    "# step size defaults to 1 if not provided.\n",
    "\n",
    "numbers = [1, 2, 3, 4, 5, 6]\n",
    "\n",
    "# iterate over the list using index\n",
    "for i in range(len(numbers)):\n",
    "    print(\"number\", numbers[i])\n",
    "    \n",
    "# iterate over the list using 2 steps\n",
    "for i in range(0, len(numbers), 2):\n",
    "    print(\"2 steps\", numbers[i])"
   ]
  },
  {
   "cell_type": "markdown",
   "metadata": {},
   "source": [
    "### For loop with enumerate( ) function "
   ]
  },
  {
   "cell_type": "code",
   "execution_count": null,
   "metadata": {},
   "outputs": [],
   "source": [
    "# the enumerate() function is used to iterate through a list while keeping track of the list items' indices.\n",
    "\n",
    "pets = ('Dogs', 'Cats', 'Turtles', 'Rabbits')\n",
    "\n",
    "for index, pet in enumerate(pets):\n",
    "    print(index, pet)"
   ]
  },
  {
   "cell_type": "markdown",
   "metadata": {},
   "source": [
    "## While Loop"
   ]
  },
  {
   "cell_type": "markdown",
   "metadata": {},
   "source": [
    "In while loop, test expression is checked first. The body of the loop is entered only if the test_expression evaluates to True.  \n",
    "After one iteration, the test expression is checked again. This process continues until the test_expression evaluates to False."
   ]
  },
  {
   "cell_type": "code",
   "execution_count": null,
   "metadata": {},
   "outputs": [],
   "source": [
    "# while\n",
    "\n",
    "n = 10\n",
    "\n",
    "# initialize sum and counter\n",
    "sum = 0\n",
    "i = 1\n",
    "\n",
    "while i <= n:\n",
    "    sum = sum + i\n",
    "    i = i+1    # update counter\n",
    "\n",
    "# print the sum\n",
    "print(\"The sum is\", sum)"
   ]
  },
  {
   "cell_type": "markdown",
   "metadata": {},
   "source": [
    "## Nested Loop "
   ]
  },
  {
   "cell_type": "code",
   "execution_count": null,
   "metadata": {},
   "outputs": [],
   "source": [
    "for i in range(0, 2):\n",
    "    for j in range(0, 2):\n",
    "        print(\"i=\", i, \"j=\", j, \", i*j=\", i*j)"
   ]
  },
  {
   "cell_type": "markdown",
   "metadata": {},
   "source": [
    "##  break and continue"
   ]
  },
  {
   "cell_type": "markdown",
   "metadata": {},
   "source": [
    "In Python, break and continue statements can alter the flow of a normal loop.\n",
    "\n",
    "Loops iterate over a block of code until test expression is false, but sometimes we wish to terminate the current iteration or even the whole loop without checking test expression.\n"
   ]
  },
  {
   "cell_type": "code",
   "execution_count": null,
   "metadata": {},
   "outputs": [],
   "source": [
    "# break\n",
    "numbers = [1, 2, 3, 4, 5, 6, 7, 8, 9, 10]\n",
    "\n",
    "for val in numbers:\n",
    "    if val >= 4:\n",
    "        break\n",
    "    print(val)"
   ]
  },
  {
   "cell_type": "code",
   "execution_count": null,
   "metadata": {},
   "outputs": [],
   "source": [
    "# continue\n",
    "numbers = [1, 2, 3, 4, 5, 6, 7, 8, 9, 10]\n",
    "\n",
    "for val in numbers:\n",
    "    if val >= 3 and val <=8:\n",
    "        continue\n",
    "    print(val)"
   ]
  },
  {
   "cell_type": "code",
   "execution_count": null,
   "metadata": {},
   "outputs": [],
   "source": [
    "# pass\n",
    "# pass is a null operation -- when it is executed, nothing happens. It is useful as a placeholder.\n",
    "numbers = [1, 2, 3, 4, 5, 6, 7, 8, 9, 10]\n",
    "\n",
    "for val in numbers:\n",
    "    pass"
   ]
  },
  {
   "cell_type": "markdown",
   "metadata": {},
   "source": [
    "## List comprehension  "
   ]
  },
  {
   "cell_type": "markdown",
   "metadata": {},
   "source": [
    "List comprehensions provide a concise way to create lists.  \n",
    "Common applications are to make new lists where each element is the result of some operations applied to each member of another sequence or iterable, or to create a subsequence of those elements that satisfy a certain condition."
   ]
  },
  {
   "cell_type": "code",
   "execution_count": null,
   "metadata": {},
   "outputs": [],
   "source": [
    "# make new lists by using iterable\n",
    "squares = []\n",
    "for x in range(10):\n",
    "     squares.append(x**2)\n",
    "\n",
    "# Output: [0, 1, 4, 9, 16, 25, 36, 49, 64, 81]\n",
    "print(squares)"
   ]
  },
  {
   "cell_type": "code",
   "execution_count": null,
   "metadata": {},
   "outputs": [],
   "source": [
    "# equivalently\n",
    "squares = [x**2 for x in range(10)]\n",
    "print(squares)"
   ]
  },
  {
   "cell_type": "markdown",
   "metadata": {},
   "source": [
    "A list comprehension consists of brackets containing an expression followed by a for clause, then zero or more for or if clauses.  \n",
    "The result will be a new list resulting from evaluating the expression in the context of the for and if clauses which follow it.  "
   ]
  },
  {
   "cell_type": "code",
   "execution_count": null,
   "metadata": {},
   "outputs": [],
   "source": [
    "# with if\n",
    "squares = [x**2 for x in range(10) if x % 2 == 0]\n",
    "print(squares)\n",
    "\n",
    "\n",
    "# equivalently\n",
    "squares = []\n",
    "for x in range(10):\n",
    "    if x % 2 == 0:\n",
    "        squares.append(x**2)\n",
    "\n",
    "print(squares)"
   ]
  },
  {
   "cell_type": "markdown",
   "metadata": {},
   "source": [
    "# **_練習 - part 3_**"
   ]
  },
  {
   "cell_type": "raw",
   "metadata": {},
   "source": [
    "Q1. 建立一個驗證密碼的小程式，程式內建一組字串密碼，請使用者輸入一組字串密碼，比對密碼是否輸入正確。\n",
    "\n",
    "Expected Result:  \n",
    "\n",
    "請輸入密碼: Passw0rd\n",
    "密碼正確\n",
    "\n",
    "或\n",
    "\n",
    "請輸入密碼: adfgg\n",
    "密碼錯誤\n",
    "\n",
    "\n",
    "Q2. 給予一個列表，計算出列表中元素為2的倍數的和。\n",
    "\n",
    "Sample List : [1, 2, 3, 4, 5, 6, 7, 8, 9, 10]\n",
    "Expected Result : 30\n",
    "\n",
    "\n",
    "Q3. 輸入人物的身高、體重，計算出該人物的 BMI\n",
    "公式：BMI = 體重(公斤) / 身高*身高 (公尺)\n",
    "\n",
    "P.S. 於2002年4月公布臺灣成人肥胖標準：BMI＜18.5 為過輕，18.5≦BMI＜24 為正常體重，24≦BMI＜27 為過重，BMI≧27 即為肥胖\n",
    "\n",
    "\n",
    "Q4. 印出 1 到 50，但如果是 3 的倍數就印 Fizz，如果是 5 的倍數就印 Buzz，如果同時是 3 和 5 的倍數就印 FizzBuzz。"
   ]
  },
  {
   "cell_type": "code",
   "execution_count": null,
   "metadata": {},
   "outputs": [],
   "source": [
    "# Q1\n",
    "password = input(\"請輸入密碼: \")\n",
    "\n",
    "if password == \"Passw0rd\":\n",
    "    print(\"密碼正確\")\n",
    "else:\n",
    "    print(\"密碼錯誤\")"
   ]
  },
  {
   "cell_type": "code",
   "execution_count": null,
   "metadata": {},
   "outputs": [],
   "source": [
    "# Q2. \n",
    "a_list = [1, 2, 3, 4, 5, 6, 7, 8, 9, 10]\n",
    "sum = 0\n",
    "for num in a_list:\n",
    "    if num % 2 == 0:\n",
    "        sum += num\n",
    "\n",
    "print(sum)"
   ]
  },
  {
   "cell_type": "code",
   "execution_count": null,
   "metadata": {},
   "outputs": [],
   "source": [
    "# Q3.\n",
    "height = float(input(\"What is your height? (公尺) : \"))\n",
    "weight = int(input(\"What is your weight? (公斤) : \"))\n",
    "\n",
    "bmi = round((weight / (height ** 2)), 2)\n",
    "print(\"Your BMI is \" + str(bmi))"
   ]
  },
  {
   "cell_type": "code",
   "execution_count": null,
   "metadata": {},
   "outputs": [],
   "source": [
    "# Q4.\n",
    "for num in range(1,51):\n",
    "    if num % (3 * 5) == 0:\n",
    "        print('FizzBuzz')\n",
    "    elif num % 3 == 0:\n",
    "        print('Fizz')\n",
    "    elif num % 5 == 0:\n",
    "        print('Buzz')\n",
    "    else:\n",
    "        print(str(num))"
   ]
  },
  {
   "cell_type": "markdown",
   "metadata": {},
   "source": [
    "# Function"
   ]
  },
  {
   "cell_type": "markdown",
   "metadata": {},
   "source": [
    "Function is a group of related statements that perform a specific task.\n",
    "\n",
    "Functions help break our program into smaller and modular chunks.  \n",
    "As our program grows larger and larger, functions make it more organized and manageable.\n",
    "\n",
    "Furthermore, it avoids repetition and makes code reusable."
   ]
  },
  {
   "cell_type": "code",
   "execution_count": null,
   "metadata": {},
   "outputs": [],
   "source": [
    "def function_name(parameters):  \n",
    "    statement(s)"
   ]
  },
  {
   "cell_type": "markdown",
   "metadata": {},
   "source": [
    "**def** - marks the start of function header.  \n",
    "**function name** - to uniquely identify it.  \n",
    "**parameters** - through which we pass values to a function. (optional)  \n",
    "**colon (:)** - to mark the end of function header.  \n",
    "**return statement** - to return a value from the function. (optional)"
   ]
  },
  {
   "cell_type": "code",
   "execution_count": null,
   "metadata": {},
   "outputs": [],
   "source": [
    "# define function without parameters\n",
    "def greet():\n",
    "    print(\"Hello!\")"
   ]
  },
  {
   "cell_type": "code",
   "execution_count": null,
   "metadata": {},
   "outputs": [],
   "source": [
    "# call function\n",
    "greet()"
   ]
  },
  {
   "cell_type": "code",
   "execution_count": null,
   "metadata": {},
   "outputs": [],
   "source": [
    "# define function with parameter\n",
    "def greet(name):\n",
    "    print(\"Hello\", name + \", nice to meet you\")"
   ]
  },
  {
   "cell_type": "code",
   "execution_count": null,
   "metadata": {},
   "outputs": [],
   "source": [
    "greet(\"Felix\")"
   ]
  },
  {
   "cell_type": "code",
   "execution_count": null,
   "metadata": {},
   "outputs": [],
   "source": [
    "# repetition\n",
    "\n",
    "# print(\"Hello Adam, nice to meet you\")\n",
    "# print(\"Hello Bruce, nice to meet you\")\n",
    "# print(\"Hello Cate, nice to meet you\")\n",
    "\n",
    "greet(\"Adam\")\n",
    "greet(\"Bruce\")\n",
    "greet(\"Cate\")"
   ]
  },
  {
   "cell_type": "code",
   "execution_count": null,
   "metadata": {},
   "outputs": [],
   "source": [
    "# return statement\n",
    "\n",
    "# None\n",
    "def greet():\n",
    "    print(\"Hello\")\n",
    "\n",
    "# One \n",
    "def add_two_nums(arg1, arg2):\n",
    "   sum = arg1 + arg2\n",
    "   return sum;\n",
    "\n",
    "result = add_two_nums(10, 20)\n",
    "print(result)"
   ]
  },
  {
   "cell_type": "code",
   "execution_count": null,
   "metadata": {},
   "outputs": [],
   "source": [
    "# Multiple return values\n",
    "# Python has the ability to return multiple values from a function call\n",
    "\n",
    "# constructs a tuple and returns this to the caller\n",
    "def square(x,y):\n",
    "    return x*x, y*y\n",
    "\n",
    "result = square(2,3)\n",
    "print(result)  # Produces (4,9)\n",
    "\n",
    "\n",
    "# \"unwrap\" the tuple into the variables directly by specifying the same number of variables\n",
    "def square(x,y):\n",
    "    return x*x, y*y\n",
    "\n",
    "res_x, res_y = square(2,3)\n",
    "print(res_x)  # Prints 4\n",
    "print(res_y)  # Prints 9 "
   ]
  },
  {
   "cell_type": "markdown",
   "metadata": {},
   "source": [
    "### QuickSort (Just explanation the code reusable , please don't spend time to read the detail code.)"
   ]
  },
  {
   "cell_type": "code",
   "execution_count": null,
   "metadata": {},
   "outputs": [],
   "source": [
    "def quickSort(alist):\n",
    "    quickSortHelper(alist, 0, len(alist)-1)\n",
    "\n",
    "def quickSortHelper(alist, first, last):\n",
    "    if first<last:\n",
    "        splitpoint = partition(alist, first, last)\n",
    "        \n",
    "        quickSortHelper(alist, first, splitpoint-1)\n",
    "        quickSortHelper(alist, splitpoint+1, last)\n",
    "\n",
    "def partition(alist,first,last):\n",
    "    pivotvalue = alist[first]\n",
    "    \n",
    "    leftmark = first + 1\n",
    "    rightmark = last\n",
    "\n",
    "    done = False\n",
    "    while not done:\n",
    "        while leftmark <= rightmark and alist[leftmark] <= pivotvalue:\n",
    "            leftmark = leftmark + 1\n",
    "\n",
    "        while alist[rightmark] >= pivotvalue and rightmark >= leftmark:\n",
    "            rightmark = rightmark - 1\n",
    "\n",
    "        if rightmark < leftmark:\n",
    "            done = True\n",
    "        else:\n",
    "            temp = alist[leftmark]\n",
    "            alist[leftmark] = alist[rightmark]\n",
    "            alist[rightmark] = temp\n",
    "\n",
    "    temp = alist[first]\n",
    "    alist[first] = alist[rightmark]\n",
    "    alist[rightmark] = temp\n",
    "\n",
    "    return rightmark"
   ]
  },
  {
   "cell_type": "code",
   "execution_count": null,
   "metadata": {},
   "outputs": [],
   "source": [
    "# reuse the sort function, do not recode\n",
    "a_list = [9, 5, 3, 4, 1, 8, 7, 6, 2]\n",
    "quickSort(a_list)\n",
    "print(a_list)\n",
    "\n",
    "## Built-in sorted\n",
    "built_in_sort = sorted(a_list)\n",
    "print(built_in_sort)"
   ]
  },
  {
   "cell_type": "markdown",
   "metadata": {},
   "source": [
    "### Anonymous Function - Lambda "
   ]
  },
  {
   "cell_type": "markdown",
   "metadata": {},
   "source": [
    "Anonymous function is a function that is defined without a name.  \n",
    "While normal functions are defined using the def keyword, in Python anonymous functions are defined using the lambda keyword.\n",
    "\n",
    "Lambda forms can take any number of arguments but return just one value in the form of an expression.   \n",
    "They cannot contain assign variables or multiple expressions."
   ]
  },
  {
   "cell_type": "code",
   "execution_count": null,
   "metadata": {},
   "outputs": [],
   "source": [
    "# Lambda functions can have only one expression. \n",
    "# The expression is evaluated and returned. \n",
    "\n",
    "double = lambda x: x * 2\n",
    "\n",
    "# Output: 10\n",
    "print(double(5))\n",
    "\n",
    "# is nearly the same as\n",
    "def double(x):\n",
    "    return x * 2"
   ]
  },
  {
   "cell_type": "code",
   "execution_count": null,
   "metadata": {},
   "outputs": [],
   "source": [
    "# Lambda functions can have any number of arguments\n",
    "double = lambda x, y: x * 2 + y\n",
    "\n",
    "# Output: 12\n",
    "print(double(5,2))\n",
    "\n",
    "# is nearly the same as\n",
    "def double(x, y):\n",
    "    return x * 2 + y"
   ]
  },
  {
   "cell_type": "markdown",
   "metadata": {},
   "source": [
    "### Map function"
   ]
  },
  {
   "cell_type": "code",
   "execution_count": null,
   "metadata": {
    "scrolled": true
   },
   "outputs": [],
   "source": [
    "# map(function, iterable)\n",
    "# Apply function to every item of iterable and return a list of the results.\n",
    "\n",
    "items = [1, 2, 3, 4, 5]\n",
    "\n",
    "# for - one-by-one and collect the output\n",
    "squares = []\n",
    "for i in items:\n",
    "    squares.append(i**2)\n",
    "\n",
    "print(squares)\n",
    "    \n",
    "    \n",
    "# map - simpler and nicer way\n",
    "squares = list(map(lambda x: x**2, items))\n",
    "print(squares)"
   ]
  },
  {
   "cell_type": "markdown",
   "metadata": {},
   "source": [
    "### Global, Local variables "
   ]
  },
  {
   "cell_type": "code",
   "execution_count": null,
   "metadata": {},
   "outputs": [],
   "source": [
    "# global\n",
    "x = \"global\"\n",
    "\n",
    "def foo():\n",
    "    y = x + \"_variable\"\n",
    "    print(y)\n",
    "foo()"
   ]
  },
  {
   "cell_type": "code",
   "execution_count": null,
   "metadata": {},
   "outputs": [],
   "source": [
    "# local\n",
    "def foo():\n",
    "    z = \"local\"\n",
    "\n",
    "# NameError: name 'z' is not defined\n",
    "# print(z)"
   ]
  },
  {
   "cell_type": "markdown",
   "metadata": {},
   "source": [
    "# **_練習 - part 4_**"
   ]
  },
  {
   "cell_type": "raw",
   "metadata": {},
   "source": [
    "Q1. 請寫出一個函式，將列表中的數字相乘。\n",
    "Sample List : [1, 2, 3, 4, 5] \n",
    "Expected Result : 120\n",
    "\n",
    "\n",
    "Q2. 請寫⼀個函式，輸入一字串，返回反轉全部字元的字串。 \n",
    "func(\"test\")\n",
    "Expected Result : \"tset\" \n",
    "\n",
    "\n",
    "Q3. 請寫⼀個函式把裡⾯的字串，每個單字本⾝做反轉，但是單字的順序不變。 (Optional)\n",
    "func(\"it is a test string\")\n",
    "Expected Result : \"string tset a is it\"  "
   ]
  },
  {
   "cell_type": "code",
   "execution_count": null,
   "metadata": {},
   "outputs": [],
   "source": [
    "# Q1\n",
    "\n",
    "def multiply(num):  \n",
    "    total = 1\n",
    "    for x in num:\n",
    "        total *= x  \n",
    "    return total  \n",
    "\n",
    "print(multiply([1, 2, 3, 4, 5]))"
   ]
  },
  {
   "cell_type": "code",
   "execution_count": null,
   "metadata": {},
   "outputs": [],
   "source": [
    "# Q2 - easy\n",
    "def reverse_easy(string):\n",
    "    return string[::-1]\n",
    "\n",
    "\n",
    "# Q2 - standard\n",
    "def reverse(string):\n",
    "    temp = list(string)\n",
    "\n",
    "    left = 0\n",
    "    right = len(temp)-1\n",
    "\n",
    "    while left <= right:\n",
    "        temp[left], temp[right] = temp[right], temp[left]\n",
    "        left += 1\n",
    "        right -= 1\n",
    "\n",
    "    result = ''.join(temp)\n",
    "\n",
    "    return result\n",
    "\n",
    "\n",
    "# Q3 \n",
    "def reverse_sentence(sentence):\n",
    "    if sentence is None or len(sentence) == 0:\n",
    "        return \"\"\n",
    "        \n",
    "    temp_list = sentence.split(\" \")\n",
    "\n",
    "    for i in range(len(temp_list)):\n",
    "        temp_list[i] = reverse(temp_list[i])\n",
    "\n",
    "    result = ' '.join(temp_list)\n",
    "\n",
    "    return result\n",
    "\n",
    "\n",
    "print(reverse_easy(\"tset\"))\n",
    "print(reverse(\"tset\"))\n",
    "print(reverse_sentence(\"it is a test string\"))"
   ]
  },
  {
   "cell_type": "markdown",
   "metadata": {},
   "source": [
    "### Generators\n",
    "\n",
    "Python generators are a simple way of creating iterators.\n",
    "\n",
    "It is as easy as defining a normal function with yield statement instead of a return statement.\n",
    "\n",
    "If a function contains at least one yield statement (it may contain other yield or return statements), it becomes a generator function. Both yield and return will return some value from a function.\n",
    "\n",
    "The difference is that, while a return statement terminates a function entirely, yield statement pauses the function saving all its states and later continues from there on successive calls."
   ]
  },
  {
   "cell_type": "code",
   "execution_count": null,
   "metadata": {},
   "outputs": [],
   "source": [
    "# with for loop\n",
    "def generator_example():\n",
    "    a = 1\n",
    "    yield print(a)    # 1\n",
    "    a += 1\n",
    "    yield print(a)    # 2\n",
    "    return\n",
    "\n",
    "for i in generator_example():\n",
    "    continue  "
   ]
  },
  {
   "cell_type": "code",
   "execution_count": null,
   "metadata": {},
   "outputs": [],
   "source": [
    "# with next\n",
    "def generator_example():\n",
    "    yield print(1)\n",
    "    yield print(2)\n",
    "    return\n",
    "\n",
    "gen = generator_example()\n",
    "\n",
    "gen.__next__() # 1\n",
    "gen.__next__() # 2\n",
    "gen.__next__() # raise StopIteration Error"
   ]
  },
  {
   "cell_type": "code",
   "execution_count": null,
   "metadata": {
    "collapsed": true
   },
   "outputs": [],
   "source": [
    "# avoid StopIteration Error\n",
    "try:\n",
    "    gen.__next__()  \n",
    "except StopIteration:\n",
    "    pass # do nothing"
   ]
  },
  {
   "cell_type": "markdown",
   "metadata": {},
   "source": [
    "Benefits: no need to create a complete list, which saves a lot of memory space."
   ]
  },
  {
   "cell_type": "code",
   "execution_count": null,
   "metadata": {},
   "outputs": [],
   "source": [
    "# 利用 list 迭代  \n",
    "range_num = 10\n",
    "for i in [x*x for x in range(range_num)]:\n",
    "    # do something\n",
    "    pass\n",
    "\n",
    "# 利用 generator 迭代  \n",
    "for i in (x*x for x in range(range_num)):\n",
    "    # do something\n",
    "    pass"
   ]
  },
  {
   "cell_type": "code",
   "execution_count": null,
   "metadata": {
    "scrolled": false
   },
   "outputs": [],
   "source": [
    "import psutil\n",
    "\n",
    "before_used = psutil.virtual_memory().used  # expressed in bytes\n",
    "after_used = 0\n",
    "\n",
    "print(\"before:\", before_used)\n",
    "\n",
    "range_num = 1000000 \n",
    "for i in [x*x for x in range(range_num)]: # 第一種方法：對 list 進行迭代\n",
    "    if i == (range_num - 1) * (range_num - 1):\n",
    "        after_used = psutil.virtual_memory().used\n",
    "        print(\"after:\", after_used)\n",
    "    \n",
    "print(\"used memory:\", (after_used - before_used))"
   ]
  },
  {
   "cell_type": "code",
   "execution_count": null,
   "metadata": {},
   "outputs": [],
   "source": [
    "import psutil\n",
    "\n",
    "before_used = psutil.virtual_memory().used  # expressed in bytes\n",
    "after_used = 0\n",
    "\n",
    "print(\"before:\", before_used)\n",
    "\n",
    "range_num = 1000000 \n",
    "for i in (x*x for x in range(range_num)): # 第二種方法：對 generator 進行迭代\n",
    "    if i == (range_num - 1) * (range_num - 1):\n",
    "        after_used = psutil.virtual_memory().used\n",
    "        print(\"after:\", after_used)\n",
    "    \n",
    "print(\"used memory:\", (after_used - before_used))"
   ]
  },
  {
   "cell_type": "markdown",
   "metadata": {},
   "source": [
    "# Modules"
   ]
  },
  {
   "cell_type": "markdown",
   "metadata": {},
   "source": [
    "A module is a file containing Python definitions and statements.  \n",
    "The file name is the module name with the suffix .py appended.  \n",
    "Within a module, the module’s name (as a string) is available as the value of the global variable __name__."
   ]
  },
  {
   "cell_type": "markdown",
   "metadata": {},
   "source": [
    "https://github.com/python/cpython/blob/3.6/Lib/re.py"
   ]
  },
  {
   "cell_type": "code",
   "execution_count": null,
   "metadata": {},
   "outputs": [],
   "source": [
    "import re\n",
    "\n",
    "import re as r\n",
    "\n",
    "from re import findall\n",
    "\n",
    "from re import *"
   ]
  },
  {
   "cell_type": "markdown",
   "metadata": {},
   "source": [
    "## OS套件"
   ]
  },
  {
   "cell_type": "code",
   "execution_count": null,
   "metadata": {},
   "outputs": [],
   "source": [
    "import os\n",
    "\n",
    "# 顯示絕對路徑\n",
    "os.path.abspath(\"Python_session_1-ans.ipynb\")"
   ]
  },
  {
   "cell_type": "code",
   "execution_count": null,
   "metadata": {},
   "outputs": [],
   "source": [
    "# 將多個字串組合為路徑\n",
    "'/'.join(['path', 'result', 'a.csv'])"
   ]
  },
  {
   "cell_type": "code",
   "execution_count": null,
   "metadata": {},
   "outputs": [],
   "source": [
    "# 將多個字串組合為路徑\n",
    "os.path.join('path', 'result', 'a.csv')"
   ]
  },
  {
   "cell_type": "code",
   "execution_count": null,
   "metadata": {},
   "outputs": [],
   "source": [
    "# 檢查某路徑/資料夾是否存在\n",
    "os.path.exists(\"python/session_1-ans.ipynb\")"
   ]
  },
  {
   "cell_type": "markdown",
   "metadata": {},
   "source": [
    "# **_練習 - part 5_**"
   ]
  },
  {
   "cell_type": "raw",
   "metadata": {},
   "source": [
    "Q1: 若某 k 位數的正整數，其所有位數數字的 k 次方和等於該數相等，則稱為阿姆斯壯數(Armstrong number)。  \n",
    "例如 1^3 + 5^3 + 3^3 = 153, 則 153 是一個阿姆斯壯數。  \n",
    "請創建一個 Generator 函式，找出 100 ~ 999 的所有三位數的阿姆斯壯數；  \n",
    "利用 yield 回傳數值，並且用多次呼叫此 Generator 函式，依序列印出所找到的阿姆斯壯數。  \n",
    "\n",
    "\n",
    "Q2: 透過 Generators 讀取一個純文字檔案 (Optional)\n",
    "\n",
    "hint 1. 利用 open(\"your_file_path\", \"\"r) 來開啟檔案\n",
    "hint 2. 需設定每次要讀取檔案的大小\n",
    "hint 3. 利用迴圈存取，直到檔案讀取完畢為止"
   ]
  },
  {
   "cell_type": "code",
   "execution_count": null,
   "metadata": {},
   "outputs": [],
   "source": [
    "# Q1.\n",
    "def armstrong_number():\n",
    "    for num in range(100, 1000):\n",
    "        temp = num\n",
    "        sum = 0\n",
    "        while temp > 0:          \n",
    "            digit = temp % 10    # 取餘數 取得當前 temp 的個位數\n",
    "            sum += digit ** 3    # 當前取得的位數 的三次方加入 sum\n",
    "            temp //= 10          # 將當前 temp 往右位移一位 (以10為底 所以除10)\n",
    "        \n",
    "        if sum == num:           # 如果 所有位數的3次方 和 等於該數\n",
    "            yield sum            # 返回 此阿姆斯壯數\n",
    "            \n",
    "a = armstrong_number()\n",
    "\n",
    "try:\n",
    "    while(True):\n",
    "        print(a.__next__())\n",
    "except StopIteration:\n",
    "    print(\"The End\")\n"
   ]
  },
  {
   "cell_type": "code",
   "execution_count": null,
   "metadata": {
    "collapsed": true
   },
   "outputs": [],
   "source": [
    "# Q2.\n",
    "def read_in_block(file_path):  \n",
    "    BLOCK_SIZE = 1024  \n",
    "    with open(file_path, \"r\") as f:  \n",
    "        while True:  \n",
    "            block = f.read(BLOCK_SIZE)  # 每次讀取固定長度到記憶體  \n",
    "            if block:  \n",
    "                yield block  \n",
    "            else: \n",
    "                f.close()\n",
    "                return \n",
    "            \n",
    "def batch_read():  \n",
    "    file_path = \"input_your_file_path\"  # 輸入檔案的路徑 \n",
    "    for block in read_in_block(file_path):  \n",
    "        # do something\n",
    "        print(block)"
   ]
  },
  {
   "cell_type": "markdown",
   "metadata": {},
   "source": [
    "## Regular Expression"
   ]
  },
  {
   "cell_type": "markdown",
   "metadata": {},
   "source": [
    "正規表示式 (臺灣)；正則表達式（中國大陸）\n",
    "\n",
    "Regular expressions are a powerful language for matching text patterns.\n",
    "\n",
    "It is a special sequence of characters that helps you match or find other strings or sets of strings, using a specialized syntax held in a pattern."
   ]
  },
  {
   "cell_type": "code",
   "execution_count": null,
   "metadata": {},
   "outputs": [],
   "source": [
    "# simple example\n",
    "\n",
    "# string\n",
    "\"This is demo string, do nothing!\"\n",
    "\n",
    "# pattern_1\n",
    "\"is\"\n",
    "\n",
    "# pattern_2\n",
    "\"abc\"\n",
    "\n",
    "# find - does the string contains the pattern?\n",
    "# YES or NO"
   ]
  },
  {
   "cell_type": "code",
   "execution_count": null,
   "metadata": {
    "collapsed": true
   },
   "outputs": [],
   "source": [
    "# more example\n",
    "\n",
    "# string\n",
    "\"This is demo string, 01234567899876543210.\"\n",
    "\n",
    "# pattern\n",
    "\"01234567899876543210\"\n",
    "\n",
    "# if you want to search more complex pattern? \n",
    "# using regular expression!\n",
    "syntax = \"[0-9]{20}\""
   ]
  },
  {
   "cell_type": "markdown",
   "metadata": {},
   "source": [
    "### Special Characters\n",
    "**.**  match any character except a newline  \n",
    "**\\*** match 0 or more repetitions of the preceding character  \n",
    "**\\+** match 1 or more repetitions of the preceding character  \n",
    "**{m}** match exactly m copies of the previous character  \n",
    "**{m,n}** match from m to n repetitions of the preceding character  \n",
    "**\\** escapes special characters  \n",
    "**[ ]** Used to indicate a set of characters\n",
    "> [amk] will match 'a', 'm', or 'k'  \n",
    "> [a-z] will match any lowercase ASCII letter  \n",
    "> [0-5][0-9] will match all the two-digits numbers from 00 to 59"
   ]
  },
  {
   "cell_type": "markdown",
   "metadata": {},
   "source": [
    "補充資料\n",
    "\n",
    "* [更詳盡的 regular expression 符號解釋](https://atedev.wordpress.com/2007/11/23/%E6%AD%A3%E8%A6%8F%E8%A1%A8%E7%A4%BA%E5%BC%8F-regular-expression/)\n",
    "* [常見的 regular expression 寫法](https://www.analyticsvidhya.com/blog/2017/03/extracting-information-from-reports-using-regular-expressons-library-in-python/)"
   ]
  },
  {
   "cell_type": "markdown",
   "metadata": {},
   "source": [
    "###  module - re"
   ]
  },
  {
   "cell_type": "markdown",
   "metadata": {},
   "source": [
    "#### recommend findall(pattern, string, flags=0)  \n",
    "\n",
    "Return a list of all non-overlapping matches in the string.  \n",
    "The string is scanned left-to-right, and matches are returned in the order found."
   ]
  },
  {
   "cell_type": "code",
   "execution_count": null,
   "metadata": {},
   "outputs": [],
   "source": [
    "import re\n",
    "\n",
    "string = \"This is demo string, do nothing!\"\n",
    "pattern = \"is\"\n",
    "print(re.findall(pattern, string))"
   ]
  },
  {
   "cell_type": "code",
   "execution_count": null,
   "metadata": {},
   "outputs": [],
   "source": [
    "import re\n",
    "\n",
    "# find numbers\n",
    "pattern = \"[0-9]+\"\n",
    "string = '12 drummers drumming, 111 pipers piping, 1006 lords a-leaping'\n",
    "re.findall(pattern, string)"
   ]
  },
  {
   "cell_type": "code",
   "execution_count": null,
   "metadata": {},
   "outputs": [],
   "source": [
    "import re\n",
    "\n",
    "# find letters\n",
    "pattern = \"[cmf]an\"\n",
    "string = 'find: can, man, fan, skip: dan, ran, pan'\n",
    "re.findall(pattern, string)"
   ]
  },
  {
   "cell_type": "code",
   "execution_count": null,
   "metadata": {},
   "outputs": [],
   "source": [
    "import re\n",
    "\n",
    "# find e-mail\n",
    "email_text = \"\"\"\n",
    "Big Data Analytics/ Deep LearningSocial Computing / Computational Social Science / Crowdsourcing\n",
    "Multimediaand Network SystemsQuality of ExperienceInformation SecurityPh.D. candidate at NTU EEchihfan02-27883799#1602Camera CalibrationComputer VisionData\n",
    "Analysiscmchang02-27883799#1671System OptimizationMachine LearningyusraBig data\n",
    "analysiscclin02-27883799#1668Data Analysisrusi02-27883799#1668Government Procurement ActFinancial\n",
    "Managementkatekuen02-27883799#1602AdministrationEvent Planningseanyu02-27883799#1668Data \n",
    "AnalysisPsychology & NeuroscienceMarketingxinchinchenEmbedded Systemkyoyachuan062602-27883799\n",
    "#1601FinTechActuarial ScienceData Analysiskai0604602-27883799#1601Data AnalysisMachine Learningchloe02-27839427Accountingafun02-27883799 felix2018@iis.sinica.edu.tw\n",
    "#1673Data AnalysisWeb developmentyunhsu198902-27883799#1668MarketingTIGP Ph.D. Fellow at Academia Sinica & NCCUbaowalyMachine LearningData AnalysisSocial Computingchangyc1427883799#1678\n",
    "Data Analysisjimmy1592302-2788379 jimmy15923@iis.sinica.com.tw#1688Data AnalysisjasontangAnalysisMachine Learninguchen02-27883799#1668Deep Learningpjwu02-27883799#1604Computational PhotographyData Analysis\n",
    "\"\"\"\n",
    "\n",
    "re.findall(\"[A-Za-z0-9._]+@[A-Za-z.]+[com|edu]\\.tw\", email_text)"
   ]
  },
  {
   "cell_type": "markdown",
   "metadata": {},
   "source": [
    "# **_練習 - part 6_**\n",
    "\n",
    "Regular Expression \n",
    "\n",
    "Q1. 同時匹配 abcdefg, abcde, abc  \n",
    "Q2. 同時匹配 abc123xyz, abcde22a, abc456aaa  \n",
    "Q3. 匹配 \"catcat\"   \n",
    "Q4. 同時匹配 wazzzzzup, wazzzup  \n",
    "Q5. 同時匹配 aaaabcc, aabbbbc, aacc    \n",
    "Q6. 匹配手機號碼, 格式為：0987-654-321  \n",
    "Q7. 匹配右方格式, xxx.xxx.xxx.xxx (其中 x 是 0-9 的數字)  \n",
    "\n",
    "想要更多練習，請到 [RegexOne](https://regexone.com/) 網站右上方的 Interactive Tutorial，完成總共 15 個 Lessons"
   ]
  },
  {
   "cell_type": "raw",
   "metadata": {},
   "source": [
    "Ans. (答案會有很多種，這邊提供其中一種解答)\n",
    "Q1. [a-z]*  \n",
    "Q2. [a-z]*[0-9]*[a-z]*  \n",
    "Q3. \\\"(cat){2}\\\"  \n",
    "Q4. wa(z{3}|z{5})up 或 waz{3,5}up  \n",
    "Q5. [abc]+  \n",
    "Q6. [0-9]{4}\\-[0-9]{3}\\-[0-9]{3}  \n",
    "Q7. [0-9]{1,3}\\.[0-9]{1,3}\\.[0-9]{1,3}\\.[0-9]{1,3}  或  ([0-9]{1,3}\\.){3}[0-9]{1,3}"
   ]
  },
  {
   "cell_type": "markdown",
   "metadata": {},
   "source": [
    "# Class"
   ]
  },
  {
   "cell_type": "markdown",
   "metadata": {},
   "source": [
    "Class objects support two kinds of operations:  \n",
    "**attribute references** and **instantiation**."
   ]
  },
  {
   "cell_type": "code",
   "execution_count": null,
   "metadata": {
    "collapsed": true
   },
   "outputs": [],
   "source": [
    "# Attribute references use the standard syntax used for all attribute references in Python: obj.name. \n",
    "# Both MyClass.var and MyClass.methond are valid attribute references.\n",
    "\n",
    "class MyClass:\n",
    "    var = 123\n",
    "    def method(self):\n",
    "        return \"hello world\""
   ]
  },
  {
   "cell_type": "code",
   "execution_count": null,
   "metadata": {
    "collapsed": true
   },
   "outputs": [],
   "source": [
    "# Class instantiation uses function notation. \n",
    "# that returns a new instance of the class. \n",
    "\n",
    "my_object = MyClass()"
   ]
  },
  {
   "cell_type": "code",
   "execution_count": null,
   "metadata": {},
   "outputs": [],
   "source": [
    "# Using Object, 用 . 來訪問物件的屬性或方法\n",
    "print(my_object.var)\n",
    "print(my_object.method())"
   ]
  },
  {
   "cell_type": "markdown",
   "metadata": {},
   "source": [
    "### init\n",
    "\n",
    "The instantiation operation (“calling” a class object) creates an empty object.  \n",
    "Many classes like to create objects with instances customized to a specific initial state.   \n",
    "Therefore a class may define a special method named __init__()"
   ]
  },
  {
   "cell_type": "code",
   "execution_count": null,
   "metadata": {},
   "outputs": [],
   "source": [
    "# initial\n",
    "class MyClass:\n",
    "    def __init__(self):\n",
    "        print(\"do nothing\")\n",
    "\n",
    "my_object = MyClass()"
   ]
  },
  {
   "cell_type": "code",
   "execution_count": null,
   "metadata": {},
   "outputs": [],
   "source": [
    "# the __init__() method may have arguments for greater flexibility. \n",
    "class MyClass:\n",
    "    def __init__(self, var1, var2):\n",
    "        self.var1 = var1\n",
    "        self.var2 = var2\n",
    "\n",
    "my_object = MyClass(123, 456)\n",
    "print(my_object.var1)\n",
    "print(my_object.var2)"
   ]
  },
  {
   "cell_type": "code",
   "execution_count": null,
   "metadata": {},
   "outputs": [],
   "source": [
    "class MyClass:\n",
    "    def __init__(self, var1):\n",
    "        self.var1 = var1\n",
    "\n",
    "my_object_123 = MyClass(123)\n",
    "my_object_987 = MyClass(987)\n",
    "\n",
    "print(my_object_123.var1)\n",
    "print(my_object_987.var1)\n",
    "\n",
    "print(my_object_123)\n",
    "print(my_object_987)"
   ]
  },
  {
   "cell_type": "markdown",
   "metadata": {},
   "source": [
    "### self\n",
    "\n",
    "The first argument of a method is called self. This is nothing more than a convention: the name self has absolutely no special meaning to Python.  \n",
    "Note, however, that by not following the convention your code may be less readable to other Python programmers, and it is also conceivable that a class browser program might be written that relies upon such a convention."
   ]
  },
  {
   "cell_type": "markdown",
   "metadata": {},
   "source": [
    "### interpretation BMI code\n",
    "\n",
    "題目：輸入人物的身高、體重，計算出該人物的 BMI  \n",
    "公式：BMI = 體重(公斤) / 身高^2 (公尺)  \n",
    "> 於2002年4月公布臺灣成人肥胖標準：BMI＜18.5 為過輕，18.5≦BMI＜24 為正常體重，24≦BMI＜27 為過重，BMI≧27 即為肥胖"
   ]
  },
  {
   "cell_type": "code",
   "execution_count": null,
   "metadata": {},
   "outputs": [],
   "source": [
    "class Person:\n",
    "    bmi = 0.0\n",
    "    height = 0.0\n",
    "    weight = 0\n",
    "    \n",
    "    def __init__(self):\n",
    "        pass\n",
    "\n",
    "    def ask_person_info(self):\n",
    "        self.height = float(input(\"What is your height? (meter) : \"))\n",
    "        self.weight = int(input(\"What is your weight? (kg) : \"))\n",
    "\n",
    "    def cal_BMI(self):\n",
    "        self.bmi = round((self.weight / (self.height ** 2)), 2)\n",
    "        print(\"Your BMI is \" + str(self.bmi))\n",
    "\n",
    "\n",
    "# main\n",
    "person = Person()\n",
    "person.ask_person_info()\n",
    "person.cal_BMI()"
   ]
  },
  {
   "cell_type": "markdown",
   "metadata": {},
   "source": [
    "# **_練習 - part 7_**\n",
    "Q1. 寫一個 class，其中包含一個變數(str1)以及兩個函式(set_string 和 print_string).  \n",
    "set_string 接受一個字串參數，賦值給 str1。  \n",
    "print_string 印出 str1 的大寫字串  \n",
    "\n",
    "hint: 先宣告一個成員變數，再透過上述兩個函式對該變數做操作。"
   ]
  },
  {
   "cell_type": "code",
   "execution_count": null,
   "metadata": {},
   "outputs": [],
   "source": [
    "class YoYoString():\n",
    "    def __init__(self):\n",
    "        self.str1 = \"\"\n",
    "\n",
    "    def set_string(self, string):\n",
    "        self.str1 = string\n",
    "\n",
    "    def print_string(self):\n",
    "        print(self.str1.upper())\n",
    "\n",
    "str1 = YoYoString()\n",
    "str1.set_string(\"yo yo check yo!\")\n",
    "str1.print_string()"
   ]
  },
  {
   "cell_type": "markdown",
   "metadata": {},
   "source": [
    "# 物件導向程式設計  (Optional)"
   ]
  },
  {
   "cell_type": "markdown",
   "metadata": {},
   "source": [
    "**物件導向程式設計（英語：Object-oriented programming，縮寫：OOP）：**  \n",
    "是種具有物件概念的程式編程典範，同時也是一種程式開發的抽象方針。  \n",
    "它將物件作為程式的基本單元，將程式和資料封裝其中，以提高軟體的重用性、靈活性和擴充功能性。  \n",
    "\n",
    "**繼承（英語：inheritance）：**  \n",
    "是物件導向軟體技術當中的一個概念。如果一個類別A「繼承自」另一個類別B，就把這個A稱為「B的子類別」，而把B稱為「A的父類別」。繼承可以使得子類別具有父類別的各種屬性和方法，而不需要再次編寫相同的代碼。在令子類別繼承父類別的同時，可以重新定義某些屬性，並重寫某些方法，即覆蓋父類別的原有屬性和方法，使其獲得與父類別不同的功能。\n",
    "\n",
    "**封裝（英語：Encapsulation）： **  \n",
    "一種將抽象性函式介面的實作細節部份包裝、隱藏起來的方法。同時，它也是一種防止外界呼叫端，去存取物件內部實作細節的手段。\n",
    "\n",
    "**多型（英語：polymorphism）：**  \n",
    "是指電腦程式執行時，相同的訊息可能會送給多個不同的類別之物件，而系統可依據物件所屬類別，引發對應類別的方法，而有不同的行為。簡單來說，所謂多型意指相同的訊息給予不同的物件會引發不同的動作稱之。"
   ]
  },
  {
   "cell_type": "markdown",
   "metadata": {},
   "source": [
    "# **_練習 _**\n",
    "\n",
    "更多的練習題目：https://www.w3resource.com/python-exercises/"
   ]
  }
 ],
 "metadata": {
  "kernelspec": {
   "display_name": "Python 3",
   "language": "python",
   "name": "python3"
  },
  "language_info": {
   "codemirror_mode": {
    "name": "ipython",
    "version": 3
   },
   "file_extension": ".py",
   "mimetype": "text/x-python",
   "name": "python",
   "nbconvert_exporter": "python",
   "pygments_lexer": "ipython3",
   "version": "3.6.6"
  }
 },
 "nbformat": 4,
 "nbformat_minor": 2
}
